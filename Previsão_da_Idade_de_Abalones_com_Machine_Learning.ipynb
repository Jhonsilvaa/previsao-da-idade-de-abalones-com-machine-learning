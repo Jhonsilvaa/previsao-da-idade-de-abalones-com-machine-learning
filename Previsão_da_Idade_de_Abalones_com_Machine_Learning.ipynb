{
  "nbformat": 4,
  "nbformat_minor": 0,
  "metadata": {
    "colab": {
      "provenance": [],
      "authorship_tag": "ABX9TyN4fpzV2M8sE+EzM2m/v4yP",
      "include_colab_link": true
    },
    "kernelspec": {
      "name": "python3",
      "display_name": "Python 3"
    },
    "language_info": {
      "name": "python"
    }
  },
  "cells": [
    {
      "cell_type": "markdown",
      "metadata": {
        "id": "view-in-github",
        "colab_type": "text"
      },
      "source": [
        "<a href=\"https://colab.research.google.com/github/Jhonsilvaa/previsao-da-idade-de-abalones-com-machine-learning/blob/main/Previs%C3%A3o_da_Idade_de_Abalones_com_Machine_Learning.ipynb\" target=\"_parent\"><img src=\"https://colab.research.google.com/assets/colab-badge.svg\" alt=\"Open In Colab\"/></a>"
      ]
    },
    {
      "cell_type": "markdown",
      "metadata": {
        "id": "IR56trFcPcC1"
      },
      "source": [
        "# Previsão da Idade de Abalones com Machine Learning\n",
        "---\n",
        "O Abalone é um molusco gastrópode descrito por Linnaeus em 1758. Pertence à família Haliotidae e é encontrado em diversas espécies nas águas costeiras de quase todo o mundo. Os abalones possuem características anatômicas primitivas, como simetria bilateral. Eles têm um coração e um gânglio cerebral que fornece nervos aos órgãos sensoriais, mas não têm cérebro ou mecanismos de coagulação do sangue. Seus pés musculosos e ventosos ocupam a maior parte de seus corpos, ajudando-os a se agarrar a superfícies rochosas.\n",
        "\n",
        "As espécies mais jovens geram milhares de ovos nos anos iniciais de reprodução, mas quando ficam mais velhos e maiores, eles geram milhões. Apesar desse alto número de ovos, as conchas menores sofrem uma taxa de mortalidade de 60% a 99%.\n",
        "\n",
        "<p align=center>\n",
        "<img src=\"https://github.com/user-attachments/assets/97159466-0a19-4384-b69e-0773e7ef2637\" width=\"65%\"></p>\n",
        "\n",
        "A idade do abalone está diretamente ligada ao seu ciclo de vida e reprodutivo. Saber a idade ajuda na gestão sustentável das populações de abalone, evitando a captura de espécimes jovens que ainda não se reproduziram, garantindo assim a sustentabilidade da espécie. No entanto, a idade dos abalones não pode ser facilmente determinada apenas observando sua aparência externa. Tradicionalmente, a idade é estimada contando os anéis de crescimento em sua concha, um processo demorado e destrutivo.\n",
        "\n",
        "\n",
        "O objetivo deste projeto é criar um modelo de machine learning capaz de prever a idade dos abalones com base em suas características físicas, como o comprimento, a altura, o diâmetro, o peso do músculo e etc...\n",
        "\n",
        "\n"
      ]
    },
    {
      "cell_type": "markdown",
      "metadata": {
        "id": "mSfS74gU1LBS"
      },
      "source": [
        "## Descrição de Variáveis\n",
        "Um guia que fornece descrições conceituais de cada variável em nosso conjunto de dados.\n",
        "\n",
        "\n"
      ]
    },
    {
      "cell_type": "markdown",
      "source": [
        "* `Sex`: Representa o sexo do abalone. Os valores são representados por  M (masculino), F (feminino) e I (infantil).\n",
        "\n",
        "* `Length`: A medida mais longa da concha de abalone em milímetro.\n",
        "\n",
        "* `Diameter`: medida da concha de abalone perpendicular ao comprimento em milímetro.\n",
        "\n",
        "* `Height`: Altura da concha em milímetro.\n",
        "\n",
        "* `Whole_weight`: Peso do abalone em gramas.\n",
        "\n",
        "* `Shucked_weight`: Peso somente da carne no abalone em gramas.\n",
        "\n",
        "* `Viscera_weight`: Peso do abalone após sangramento em gramas.\n",
        "\n",
        "* `Shell_weight`: Peso da concha do abalone após ser seca em gramas.\n",
        "\n",
        "* `Rings`: Número de anéis na concha do abalone, onde cada anel adicional corresponde a aproximadamente 1,5 anos de idade\n",
        "\n"
      ],
      "metadata": {
        "id": "fF9-e9PhgM50"
      }
    },
    {
      "cell_type": "markdown",
      "metadata": {
        "id": "kaJdNkAIthdu"
      },
      "source": [
        "## Importando os Dados\n",
        "\n",
        " A importação de dados é o processo de carregamento e leitura de dados em um notebook. Os aspectos que devem ser consideradas na importação de dados são formatos de dados e locais de armazenamento de arquivos de conjuntos de dados. Existem vários formatos de dados que podem ser importados para notebooks, como .csv, .xlsx, .json e assim por diante. Para locais de armazenamento, existem duas opções, nomeadamente a partir de um computador local ou da internet, por meio de um link. Uma importação adequada garante que os dados sejam lidos corretamente e estejam prontos para as etapas seguintes."
      ]
    },
    {
      "cell_type": "code",
      "source": [
        "import numpy as np\n",
        "import matplotlib.pyplot as plt\n",
        "import pandas as pd\n",
        "import seaborn as sns\n",
        "from rich import print as rprint\n",
        "from rich.console import Console\n",
        "from rich.table import Table\n",
        "from rich.panel import Panel"
      ],
      "metadata": {
        "id": "uzV1oKQaoP2V"
      },
      "execution_count": null,
      "outputs": []
    },
    {
      "cell_type": "markdown",
      "source": [
        "Neste projeto, os dados utilizados foram obtidos do repositório de Machine learning da UCI (University of California, Irvine). Especificamente, a base de dados do Abalone pode ser acessada através do link: [UCI Abalone Dataset](https://archive.ics.uci.edu/dataset/1/abalone)\n",
        "\n",
        "\n",
        "<p align=center>\n",
        "<img src=\"https://github.com/user-attachments/assets/f0635601-c1e6-4d11-b0e0-079e97f838ff\" width=\"38%\"></p>\n",
        "\n",
        " Os dados abrangem um total de 4.177 instâncias. Cada instância representa um abalone individual e inclui as características mencionadas na descrição de variaveis."
      ],
      "metadata": {
        "id": "NsZSTxuCmUXa"
      }
    },
    {
      "cell_type": "code",
      "source": [
        "from warnings import simplefilter, filterwarnings\n",
        "simplefilter(action='ignore', category=FutureWarning)\n",
        "%matplotlib inline"
      ],
      "metadata": {
        "id": "DK0VN_tZmN7O"
      },
      "execution_count": null,
      "outputs": []
    },
    {
      "cell_type": "code",
      "source": [
        "df_abalones = pd.read_csv('/content/abalone.csv')\n",
        "df_abalones.index = np.arange(1, len(df_abalones)+1)"
      ],
      "metadata": {
        "id": "9W--Lrw-mz16"
      },
      "execution_count": null,
      "outputs": []
    },
    {
      "cell_type": "markdown",
      "metadata": {
        "id": "7nF_Dhd81Cvq"
      },
      "source": [
        "Com os dados importados para dentro de uma estrutura *Dataframe* - e não havendo a necessidade de mais nenhum ajuste ou configuração nesta etapa, pode-se iniciar uma análise exploratória dos dados a fim de preparar um modelo de *Machine Learning*."
      ]
    },
    {
      "cell_type": "markdown",
      "metadata": {
        "id": "bu6gSr1YVn5t"
      },
      "source": [
        "## Análise exploratória de dados\n",
        "Com os dados devidamente coletados, a próxima etapa é a análise exploratória de dados. Nessa etapa, empregamos diversas técnicas e ferramentas para entender melhor os dados coletados, identificando possíveis anomalias, relacionamentos e tendências nos dados."
      ]
    },
    {
      "cell_type": "markdown",
      "metadata": {
        "id": "iG6T_9EHiJYf"
      },
      "source": [
        "* Antes de iniciar a análise dos dados, vamos verificar o nosso dataset, analisando as 5 primeiras entradas."
      ]
    },
    {
      "cell_type": "code",
      "source": [
        "df_abalones.head()"
      ],
      "metadata": {
        "colab": {
          "base_uri": "https://localhost:8080/",
          "height": 206
        },
        "id": "caZXhpQ2kQjQ",
        "outputId": "5abc433f-ca7d-412f-f5a9-a1877ecf665e"
      },
      "execution_count": null,
      "outputs": [
        {
          "output_type": "execute_result",
          "data": {
            "text/plain": [
              "  Sex  Length  Diameter  Height  Whole_weight  Shucked_weight  Viscera_weight  \\\n",
              "1   M   0.455     0.365   0.095        0.5140          0.2245          0.1010   \n",
              "2   M   0.350     0.265   0.090        0.2255          0.0995          0.0485   \n",
              "3   F   0.530     0.420   0.135        0.6770          0.2565          0.1415   \n",
              "4   M   0.440     0.365   0.125        0.5160          0.2155          0.1140   \n",
              "5   I   0.330     0.255   0.080        0.2050          0.0895          0.0395   \n",
              "\n",
              "   Shell_weight  Rings  \n",
              "1         0.150     15  \n",
              "2         0.070      7  \n",
              "3         0.210      9  \n",
              "4         0.155     10  \n",
              "5         0.055      7  "
            ],
            "text/html": [
              "\n",
              "  <div id=\"df-4bd070aa-103d-477b-87db-8f8b89ab705a\" class=\"colab-df-container\">\n",
              "    <div>\n",
              "<style scoped>\n",
              "    .dataframe tbody tr th:only-of-type {\n",
              "        vertical-align: middle;\n",
              "    }\n",
              "\n",
              "    .dataframe tbody tr th {\n",
              "        vertical-align: top;\n",
              "    }\n",
              "\n",
              "    .dataframe thead th {\n",
              "        text-align: right;\n",
              "    }\n",
              "</style>\n",
              "<table border=\"1\" class=\"dataframe\">\n",
              "  <thead>\n",
              "    <tr style=\"text-align: right;\">\n",
              "      <th></th>\n",
              "      <th>Sex</th>\n",
              "      <th>Length</th>\n",
              "      <th>Diameter</th>\n",
              "      <th>Height</th>\n",
              "      <th>Whole_weight</th>\n",
              "      <th>Shucked_weight</th>\n",
              "      <th>Viscera_weight</th>\n",
              "      <th>Shell_weight</th>\n",
              "      <th>Rings</th>\n",
              "    </tr>\n",
              "  </thead>\n",
              "  <tbody>\n",
              "    <tr>\n",
              "      <th>1</th>\n",
              "      <td>M</td>\n",
              "      <td>0.455</td>\n",
              "      <td>0.365</td>\n",
              "      <td>0.095</td>\n",
              "      <td>0.5140</td>\n",
              "      <td>0.2245</td>\n",
              "      <td>0.1010</td>\n",
              "      <td>0.150</td>\n",
              "      <td>15</td>\n",
              "    </tr>\n",
              "    <tr>\n",
              "      <th>2</th>\n",
              "      <td>M</td>\n",
              "      <td>0.350</td>\n",
              "      <td>0.265</td>\n",
              "      <td>0.090</td>\n",
              "      <td>0.2255</td>\n",
              "      <td>0.0995</td>\n",
              "      <td>0.0485</td>\n",
              "      <td>0.070</td>\n",
              "      <td>7</td>\n",
              "    </tr>\n",
              "    <tr>\n",
              "      <th>3</th>\n",
              "      <td>F</td>\n",
              "      <td>0.530</td>\n",
              "      <td>0.420</td>\n",
              "      <td>0.135</td>\n",
              "      <td>0.6770</td>\n",
              "      <td>0.2565</td>\n",
              "      <td>0.1415</td>\n",
              "      <td>0.210</td>\n",
              "      <td>9</td>\n",
              "    </tr>\n",
              "    <tr>\n",
              "      <th>4</th>\n",
              "      <td>M</td>\n",
              "      <td>0.440</td>\n",
              "      <td>0.365</td>\n",
              "      <td>0.125</td>\n",
              "      <td>0.5160</td>\n",
              "      <td>0.2155</td>\n",
              "      <td>0.1140</td>\n",
              "      <td>0.155</td>\n",
              "      <td>10</td>\n",
              "    </tr>\n",
              "    <tr>\n",
              "      <th>5</th>\n",
              "      <td>I</td>\n",
              "      <td>0.330</td>\n",
              "      <td>0.255</td>\n",
              "      <td>0.080</td>\n",
              "      <td>0.2050</td>\n",
              "      <td>0.0895</td>\n",
              "      <td>0.0395</td>\n",
              "      <td>0.055</td>\n",
              "      <td>7</td>\n",
              "    </tr>\n",
              "  </tbody>\n",
              "</table>\n",
              "</div>\n",
              "    <div class=\"colab-df-buttons\">\n",
              "\n",
              "  <div class=\"colab-df-container\">\n",
              "    <button class=\"colab-df-convert\" onclick=\"convertToInteractive('df-4bd070aa-103d-477b-87db-8f8b89ab705a')\"\n",
              "            title=\"Convert this dataframe to an interactive table.\"\n",
              "            style=\"display:none;\">\n",
              "\n",
              "  <svg xmlns=\"http://www.w3.org/2000/svg\" height=\"24px\" viewBox=\"0 -960 960 960\">\n",
              "    <path d=\"M120-120v-720h720v720H120Zm60-500h600v-160H180v160Zm220 220h160v-160H400v160Zm0 220h160v-160H400v160ZM180-400h160v-160H180v160Zm440 0h160v-160H620v160ZM180-180h160v-160H180v160Zm440 0h160v-160H620v160Z\"/>\n",
              "  </svg>\n",
              "    </button>\n",
              "\n",
              "  <style>\n",
              "    .colab-df-container {\n",
              "      display:flex;\n",
              "      gap: 12px;\n",
              "    }\n",
              "\n",
              "    .colab-df-convert {\n",
              "      background-color: #E8F0FE;\n",
              "      border: none;\n",
              "      border-radius: 50%;\n",
              "      cursor: pointer;\n",
              "      display: none;\n",
              "      fill: #1967D2;\n",
              "      height: 32px;\n",
              "      padding: 0 0 0 0;\n",
              "      width: 32px;\n",
              "    }\n",
              "\n",
              "    .colab-df-convert:hover {\n",
              "      background-color: #E2EBFA;\n",
              "      box-shadow: 0px 1px 2px rgba(60, 64, 67, 0.3), 0px 1px 3px 1px rgba(60, 64, 67, 0.15);\n",
              "      fill: #174EA6;\n",
              "    }\n",
              "\n",
              "    .colab-df-buttons div {\n",
              "      margin-bottom: 4px;\n",
              "    }\n",
              "\n",
              "    [theme=dark] .colab-df-convert {\n",
              "      background-color: #3B4455;\n",
              "      fill: #D2E3FC;\n",
              "    }\n",
              "\n",
              "    [theme=dark] .colab-df-convert:hover {\n",
              "      background-color: #434B5C;\n",
              "      box-shadow: 0px 1px 3px 1px rgba(0, 0, 0, 0.15);\n",
              "      filter: drop-shadow(0px 1px 2px rgba(0, 0, 0, 0.3));\n",
              "      fill: #FFFFFF;\n",
              "    }\n",
              "  </style>\n",
              "\n",
              "    <script>\n",
              "      const buttonEl =\n",
              "        document.querySelector('#df-4bd070aa-103d-477b-87db-8f8b89ab705a button.colab-df-convert');\n",
              "      buttonEl.style.display =\n",
              "        google.colab.kernel.accessAllowed ? 'block' : 'none';\n",
              "\n",
              "      async function convertToInteractive(key) {\n",
              "        const element = document.querySelector('#df-4bd070aa-103d-477b-87db-8f8b89ab705a');\n",
              "        const dataTable =\n",
              "          await google.colab.kernel.invokeFunction('convertToInteractive',\n",
              "                                                    [key], {});\n",
              "        if (!dataTable) return;\n",
              "\n",
              "        const docLinkHtml = 'Like what you see? Visit the ' +\n",
              "          '<a target=\"_blank\" href=https://colab.research.google.com/notebooks/data_table.ipynb>data table notebook</a>'\n",
              "          + ' to learn more about interactive tables.';\n",
              "        element.innerHTML = '';\n",
              "        dataTable['output_type'] = 'display_data';\n",
              "        await google.colab.output.renderOutput(dataTable, element);\n",
              "        const docLink = document.createElement('div');\n",
              "        docLink.innerHTML = docLinkHtml;\n",
              "        element.appendChild(docLink);\n",
              "      }\n",
              "    </script>\n",
              "  </div>\n",
              "\n",
              "\n",
              "<div id=\"df-495b9450-cf91-47f2-b38a-febd3259b95c\">\n",
              "  <button class=\"colab-df-quickchart\" onclick=\"quickchart('df-495b9450-cf91-47f2-b38a-febd3259b95c')\"\n",
              "            title=\"Suggest charts\"\n",
              "            style=\"display:none;\">\n",
              "\n",
              "<svg xmlns=\"http://www.w3.org/2000/svg\" height=\"24px\"viewBox=\"0 0 24 24\"\n",
              "     width=\"24px\">\n",
              "    <g>\n",
              "        <path d=\"M19 3H5c-1.1 0-2 .9-2 2v14c0 1.1.9 2 2 2h14c1.1 0 2-.9 2-2V5c0-1.1-.9-2-2-2zM9 17H7v-7h2v7zm4 0h-2V7h2v10zm4 0h-2v-4h2v4z\"/>\n",
              "    </g>\n",
              "</svg>\n",
              "  </button>\n",
              "\n",
              "<style>\n",
              "  .colab-df-quickchart {\n",
              "      --bg-color: #E8F0FE;\n",
              "      --fill-color: #1967D2;\n",
              "      --hover-bg-color: #E2EBFA;\n",
              "      --hover-fill-color: #174EA6;\n",
              "      --disabled-fill-color: #AAA;\n",
              "      --disabled-bg-color: #DDD;\n",
              "  }\n",
              "\n",
              "  [theme=dark] .colab-df-quickchart {\n",
              "      --bg-color: #3B4455;\n",
              "      --fill-color: #D2E3FC;\n",
              "      --hover-bg-color: #434B5C;\n",
              "      --hover-fill-color: #FFFFFF;\n",
              "      --disabled-bg-color: #3B4455;\n",
              "      --disabled-fill-color: #666;\n",
              "  }\n",
              "\n",
              "  .colab-df-quickchart {\n",
              "    background-color: var(--bg-color);\n",
              "    border: none;\n",
              "    border-radius: 50%;\n",
              "    cursor: pointer;\n",
              "    display: none;\n",
              "    fill: var(--fill-color);\n",
              "    height: 32px;\n",
              "    padding: 0;\n",
              "    width: 32px;\n",
              "  }\n",
              "\n",
              "  .colab-df-quickchart:hover {\n",
              "    background-color: var(--hover-bg-color);\n",
              "    box-shadow: 0 1px 2px rgba(60, 64, 67, 0.3), 0 1px 3px 1px rgba(60, 64, 67, 0.15);\n",
              "    fill: var(--button-hover-fill-color);\n",
              "  }\n",
              "\n",
              "  .colab-df-quickchart-complete:disabled,\n",
              "  .colab-df-quickchart-complete:disabled:hover {\n",
              "    background-color: var(--disabled-bg-color);\n",
              "    fill: var(--disabled-fill-color);\n",
              "    box-shadow: none;\n",
              "  }\n",
              "\n",
              "  .colab-df-spinner {\n",
              "    border: 2px solid var(--fill-color);\n",
              "    border-color: transparent;\n",
              "    border-bottom-color: var(--fill-color);\n",
              "    animation:\n",
              "      spin 1s steps(1) infinite;\n",
              "  }\n",
              "\n",
              "  @keyframes spin {\n",
              "    0% {\n",
              "      border-color: transparent;\n",
              "      border-bottom-color: var(--fill-color);\n",
              "      border-left-color: var(--fill-color);\n",
              "    }\n",
              "    20% {\n",
              "      border-color: transparent;\n",
              "      border-left-color: var(--fill-color);\n",
              "      border-top-color: var(--fill-color);\n",
              "    }\n",
              "    30% {\n",
              "      border-color: transparent;\n",
              "      border-left-color: var(--fill-color);\n",
              "      border-top-color: var(--fill-color);\n",
              "      border-right-color: var(--fill-color);\n",
              "    }\n",
              "    40% {\n",
              "      border-color: transparent;\n",
              "      border-right-color: var(--fill-color);\n",
              "      border-top-color: var(--fill-color);\n",
              "    }\n",
              "    60% {\n",
              "      border-color: transparent;\n",
              "      border-right-color: var(--fill-color);\n",
              "    }\n",
              "    80% {\n",
              "      border-color: transparent;\n",
              "      border-right-color: var(--fill-color);\n",
              "      border-bottom-color: var(--fill-color);\n",
              "    }\n",
              "    90% {\n",
              "      border-color: transparent;\n",
              "      border-bottom-color: var(--fill-color);\n",
              "    }\n",
              "  }\n",
              "</style>\n",
              "\n",
              "  <script>\n",
              "    async function quickchart(key) {\n",
              "      const quickchartButtonEl =\n",
              "        document.querySelector('#' + key + ' button');\n",
              "      quickchartButtonEl.disabled = true;  // To prevent multiple clicks.\n",
              "      quickchartButtonEl.classList.add('colab-df-spinner');\n",
              "      try {\n",
              "        const charts = await google.colab.kernel.invokeFunction(\n",
              "            'suggestCharts', [key], {});\n",
              "      } catch (error) {\n",
              "        console.error('Error during call to suggestCharts:', error);\n",
              "      }\n",
              "      quickchartButtonEl.classList.remove('colab-df-spinner');\n",
              "      quickchartButtonEl.classList.add('colab-df-quickchart-complete');\n",
              "    }\n",
              "    (() => {\n",
              "      let quickchartButtonEl =\n",
              "        document.querySelector('#df-495b9450-cf91-47f2-b38a-febd3259b95c button');\n",
              "      quickchartButtonEl.style.display =\n",
              "        google.colab.kernel.accessAllowed ? 'block' : 'none';\n",
              "    })();\n",
              "  </script>\n",
              "</div>\n",
              "\n",
              "    </div>\n",
              "  </div>\n"
            ],
            "application/vnd.google.colaboratory.intrinsic+json": {
              "type": "dataframe",
              "variable_name": "df_abalones",
              "summary": "{\n  \"name\": \"df_abalones\",\n  \"rows\": 4177,\n  \"fields\": [\n    {\n      \"column\": \"Sex\",\n      \"properties\": {\n        \"dtype\": \"category\",\n        \"num_unique_values\": 3,\n        \"samples\": [\n          \"M\",\n          \"F\",\n          \"I\"\n        ],\n        \"semantic_type\": \"\",\n        \"description\": \"\"\n      }\n    },\n    {\n      \"column\": \"Length\",\n      \"properties\": {\n        \"dtype\": \"number\",\n        \"std\": 0.12009291256479956,\n        \"min\": 0.075,\n        \"max\": 0.815,\n        \"num_unique_values\": 134,\n        \"samples\": [\n          0.815,\n          0.65,\n          0.29\n        ],\n        \"semantic_type\": \"\",\n        \"description\": \"\"\n      }\n    },\n    {\n      \"column\": \"Diameter\",\n      \"properties\": {\n        \"dtype\": \"number\",\n        \"std\": 0.09923986613365945,\n        \"min\": 0.055,\n        \"max\": 0.65,\n        \"num_unique_values\": 111,\n        \"samples\": [\n          0.09,\n          0.35,\n          0.3\n        ],\n        \"semantic_type\": \"\",\n        \"description\": \"\"\n      }\n    },\n    {\n      \"column\": \"Height\",\n      \"properties\": {\n        \"dtype\": \"number\",\n        \"std\": 0.041827056607257274,\n        \"min\": 0.0,\n        \"max\": 1.13,\n        \"num_unique_values\": 51,\n        \"samples\": [\n          0.235,\n          0.035,\n          0.015\n        ],\n        \"semantic_type\": \"\",\n        \"description\": \"\"\n      }\n    },\n    {\n      \"column\": \"Whole_weight\",\n      \"properties\": {\n        \"dtype\": \"number\",\n        \"std\": 0.4903890182309977,\n        \"min\": 0.002,\n        \"max\": 2.8255,\n        \"num_unique_values\": 2429,\n        \"samples\": [\n          1.2825,\n          1.09,\n          0.131\n        ],\n        \"semantic_type\": \"\",\n        \"description\": \"\"\n      }\n    },\n    {\n      \"column\": \"Shucked_weight\",\n      \"properties\": {\n        \"dtype\": \"number\",\n        \"std\": 0.22196294903322014,\n        \"min\": 0.001,\n        \"max\": 1.488,\n        \"num_unique_values\": 1515,\n        \"samples\": [\n          0.2105,\n          0.0645,\n          0.476\n        ],\n        \"semantic_type\": \"\",\n        \"description\": \"\"\n      }\n    },\n    {\n      \"column\": \"Viscera_weight\",\n      \"properties\": {\n        \"dtype\": \"number\",\n        \"std\": 0.10961425025968446,\n        \"min\": 0.0005,\n        \"max\": 0.76,\n        \"num_unique_values\": 880,\n        \"samples\": [\n          0.0645,\n          0.0095,\n          0.1115\n        ],\n        \"semantic_type\": \"\",\n        \"description\": \"\"\n      }\n    },\n    {\n      \"column\": \"Shell_weight\",\n      \"properties\": {\n        \"dtype\": \"number\",\n        \"std\": 0.1392026695223861,\n        \"min\": 0.0015,\n        \"max\": 1.005,\n        \"num_unique_values\": 926,\n        \"samples\": [\n          0.3745,\n          0.2825,\n          0.49\n        ],\n        \"semantic_type\": \"\",\n        \"description\": \"\"\n      }\n    },\n    {\n      \"column\": \"Rings\",\n      \"properties\": {\n        \"dtype\": \"number\",\n        \"std\": 3,\n        \"min\": 1,\n        \"max\": 29,\n        \"num_unique_values\": 28,\n        \"samples\": [\n          11,\n          27,\n          14\n        ],\n        \"semantic_type\": \"\",\n        \"description\": \"\"\n      }\n    }\n  ]\n}"
            }
          },
          "metadata": {},
          "execution_count": 14
        }
      ]
    },
    {
      "cell_type": "markdown",
      "metadata": {
        "id": "tlBzdv3s3V-F"
      },
      "source": [
        "### **1. Qual é a natureza do conjunto de dados?**"
      ]
    },
    {
      "cell_type": "markdown",
      "metadata": {
        "id": "b5p9Pxb2wUIK"
      },
      "source": [
        "Durante a etapa de análise exploratória de dados, o primeiro passo é a compreensão do seu conjunto de dados, isto é, seu tamanho, a porcentagem de valores ausentes e os tipos de variáveis. O tamanho do conjunto serve para avaliar sua amplitude e, por consequência, sua complexidade. A porcentagem de dados ausentes serve como um parâmetro para medir a quantidade de informações faltantes em comparação ao total do conjunto de dados. Por sua vez, os tipos de variáveis revelam a natureza dos dados."
      ]
    },
    {
      "cell_type": "code",
      "source": [
        "table = Table(title='Informações das Variáveis')\n",
        "table.add_column('Variable_name', justify='center')\n",
        "table.add_column('Data_type', justify='center')\n",
        "table.add_column('Unique_value', justify='center')\n",
        "table.add_column('% of NaN', justify='center')\n",
        "for column in df_abalones.columns:\n",
        "  table.add_row(f'{column}', f'{df_abalones[column].dtypes}',\n",
        "                f'{len(df_abalones[column].unique())}',\n",
        "                f'{np.divide(df_abalones[column].isnull().sum(),len(df_abalones))*100}')\n",
        "\n",
        "print(\"Entradas:\\t {}\".format(df_abalones.shape[0]))\n",
        "print(\"Variáveis:\\t {}\\n\".format(df_abalones.shape[1]))\n",
        "rprint(table)"
      ],
      "metadata": {
        "colab": {
          "base_uri": "https://localhost:8080/",
          "height": 307
        },
        "id": "JC7zOlof6-T_",
        "outputId": "b16deef2-69e0-435e-bcce-096bcdd2be18"
      },
      "execution_count": null,
      "outputs": [
        {
          "output_type": "stream",
          "name": "stdout",
          "text": [
            "Entradas:\t 4177\n",
            "Variáveis:\t 9\n",
            "\n"
          ]
        },
        {
          "output_type": "display_data",
          "data": {
            "text/plain": [
              "\u001b[3m               Informações das Variáveis                \u001b[0m\n",
              "┏━━━━━━━━━━━━━━━━┳━━━━━━━━━━━┳━━━━━━━━━━━━━━┳━━━━━━━━━━┓\n",
              "┃\u001b[1m \u001b[0m\u001b[1mVariable_name \u001b[0m\u001b[1m \u001b[0m┃\u001b[1m \u001b[0m\u001b[1mData_type\u001b[0m\u001b[1m \u001b[0m┃\u001b[1m \u001b[0m\u001b[1mUnique_value\u001b[0m\u001b[1m \u001b[0m┃\u001b[1m \u001b[0m\u001b[1m% of NaN\u001b[0m\u001b[1m \u001b[0m┃\n",
              "┡━━━━━━━━━━━━━━━━╇━━━━━━━━━━━╇━━━━━━━━━━━━━━╇━━━━━━━━━━┩\n",
              "│      Sex       │  object   │      3       │   0.0    │\n",
              "│     Length     │  float64  │     134      │   0.0    │\n",
              "│    Diameter    │  float64  │     111      │   0.0    │\n",
              "│     Height     │  float64  │      51      │   0.0    │\n",
              "│  Whole_weight  │  float64  │     2429     │   0.0    │\n",
              "│ Shucked_weight │  float64  │     1515     │   0.0    │\n",
              "│ Viscera_weight │  float64  │     880      │   0.0    │\n",
              "│  Shell_weight  │  float64  │     926      │   0.0    │\n",
              "│     Rings      │   int64   │      28      │   0.0    │\n",
              "└────────────────┴───────────┴──────────────┴──────────┘\n"
            ],
            "text/html": [
              "<pre style=\"white-space:pre;overflow-x:auto;line-height:normal;font-family:Menlo,'DejaVu Sans Mono',consolas,'Courier New',monospace\"><span style=\"font-style: italic\">               Informações das Variáveis                </span>\n",
              "┏━━━━━━━━━━━━━━━━┳━━━━━━━━━━━┳━━━━━━━━━━━━━━┳━━━━━━━━━━┓\n",
              "┃<span style=\"font-weight: bold\"> Variable_name  </span>┃<span style=\"font-weight: bold\"> Data_type </span>┃<span style=\"font-weight: bold\"> Unique_value </span>┃<span style=\"font-weight: bold\"> % of NaN </span>┃\n",
              "┡━━━━━━━━━━━━━━━━╇━━━━━━━━━━━╇━━━━━━━━━━━━━━╇━━━━━━━━━━┩\n",
              "│      Sex       │  object   │      3       │   0.0    │\n",
              "│     Length     │  float64  │     134      │   0.0    │\n",
              "│    Diameter    │  float64  │     111      │   0.0    │\n",
              "│     Height     │  float64  │      51      │   0.0    │\n",
              "│  Whole_weight  │  float64  │     2429     │   0.0    │\n",
              "│ Shucked_weight │  float64  │     1515     │   0.0    │\n",
              "│ Viscera_weight │  float64  │     880      │   0.0    │\n",
              "│  Shell_weight  │  float64  │     926      │   0.0    │\n",
              "│     Rings      │   int64   │      28      │   0.0    │\n",
              "└────────────────┴───────────┴──────────────┴──────────┘\n",
              "</pre>\n"
            ]
          },
          "metadata": {}
        }
      ]
    },
    {
      "cell_type": "markdown",
      "source": [
        "* Podemos observar a distribuição dos tipos de dados e exibir os resultados em porcentagem."
      ],
      "metadata": {
        "id": "V03huTzbAisd"
      }
    },
    {
      "cell_type": "code",
      "source": [
        "fig, ax = plt.subplots()\n",
        "data = (df_abalones.dtypes.value_counts(normalize=True)*100).round(2)\n",
        "sns.barplot(x=data.index.astype(str), y=data.values, palette=['deepskyblue', \"lightskyblue\",  \"lightskyblue\"])\n",
        "plt.title('Distribuição dos tipos de dados')\n",
        "plt.xlabel('Tipos de dados')\n",
        "plt.ylabel('% do total')\n",
        "ax.spines['right'].set_visible(False)\n",
        "ax.spines['top'].set_visible(False)\n",
        "plt.tight_layout()"
      ],
      "metadata": {
        "colab": {
          "base_uri": "https://localhost:8080/",
          "height": 556
        },
        "id": "xI-X-kLYdz28",
        "outputId": "fc798776-ee66-42f1-e0e2-efe94b465482"
      },
      "execution_count": null,
      "outputs": [
        {
          "output_type": "stream",
          "name": "stdout",
          "text": [
            "float64    77.78\n",
            "object     11.11\n",
            "int64      11.11\n",
            "\n"
          ]
        },
        {
          "output_type": "display_data",
          "data": {
            "text/plain": [
              "<Figure size 640x480 with 1 Axes>"
            ],
            "image/png": "[encoded data removed]"
          },
          "metadata": {}
        }
      ]
    },
    {
      "cell_type": "markdown",
      "source": [
        "Com base nas informações fornecidas, podemos observar que:\n",
        "\n",
        "* É possível identificar que a variável `Rings` é o nosso atributo alvo.\n",
        "\n",
        "* Não há valores ausentes no conjunto de dados.\n",
        "\n",
        "* A maioria dos dados no dataset é do tipo `Float64` (77,78%), seguido por `Int64` (11,11%) e `Object` (11,11%). As variáveis categóricas, especificamente a variável `Sex`, precisam ser codificadas em valores numéricos."
      ],
      "metadata": {
        "id": "BUeSJTNXf6NA"
      }
    },
    {
      "cell_type": "markdown",
      "metadata": {
        "id": "83AZ2NK7uTWY"
      },
      "source": [
        "### **2. Qual o tipo de distribuição das variáveis?**\n",
        "\n"
      ]
    },
    {
      "cell_type": "markdown",
      "metadata": {
        "id": "nbuPcyI3GvNM"
      },
      "source": [
        "Em um conjunto de dados é importante descrever o comportamento de como os valores estão distribuídos,\n",
        "<br>usaremos o histograma para identificar a distribuição das variáveis numéricas."
      ]
    },
    {
      "cell_type": "code",
      "source": [
        "def custom_histplot(data, columns, colors, grid_shape=(2, 3), figsize=(14, 5), dpi=72):\n",
        "    n_rows, n_cols = grid_shape\n",
        "    fig, ax = plt.subplots(n_rows, n_cols, figsize=figsize, dpi=dpi)\n",
        "    axes = ax.flatten()\n",
        "\n",
        "    for axis, column, color in zip(axes, columns, colors):\n",
        "        sns.histplot(data=data, x=column, color=color, ax=axis, kde=True, bins='sturges')\n",
        "        axis.spines['right'].set_visible(False)\n",
        "        axis.spines['top'].set_visible(False)\n",
        "\n",
        "    for remaining_ax in axes[len(columns):]:\n",
        "        remaining_ax.set_visible(False)\n",
        "\n",
        "    return plt.tight_layout()"
      ],
      "metadata": {
        "id": "PlyrsnyeM9iw"
      },
      "execution_count": null,
      "outputs": []
    },
    {
      "cell_type": "markdown",
      "source": [
        "A seguir, utilizamos a biblioteca Seaborn para gerar histogramas que permitem visualizar a distribuição das variáveis numéricas no dataset."
      ],
      "metadata": {
        "id": "bxGmB6_oij2U"
      }
    },
    {
      "cell_type": "code",
      "source": [
        "num_columns = df_abalones.select_dtypes(include='number').columns\n",
        "custom_histplot(data=df_abalones, columns=num_columns,\n",
        "                colors=['deepskyblue', 'springgreen']*4, grid_shape=(2, 4), figsize=(12, 6))"
      ],
      "metadata": {
        "colab": {
          "base_uri": "https://localhost:8080/",
          "height": 441
        },
        "id": "J6GgYCukbPhT",
        "outputId": "eedf293d-01c2-40ad-a418-d1d76dc4d351"
      },
      "execution_count": null,
      "outputs": [
        {
          "output_type": "display_data",
          "data": {
            "text/plain": [
              "<Figure size 864x432 with 8 Axes>"
            ],
            "image/png": "[encoded data removed]"
          },
          "metadata": {}
        }
      ]
    },
    {
      "cell_type": "markdown",
      "source": [
        "Com base nas informações fornecidas pelo histograma, podemos observar que:\n",
        "\n",
        "\n",
        "* As características `Length` e  `Diameter` sinalizam uma assimétria à esquerda, tanto o comprimento e o diametro dos abalones tem valores moderamente altos e apenas poucos espécimes muito pequenos, supostamente pode ser caracteristicas de abalones jovens ou imaturos.\n",
        "\n",
        "* Tanto a variavel `Height` e as variáveis de peso (`Whole_weight`, `Shucked_weight`, `Viscera_weight` e `Shell_weight`) tem uma assimetria a direita, podemos concluir que a altura e os pesos dos abalones esta concentrada faixas menores ou próximas da média, mas ainda tendo alguns individuos acima.\n",
        "\n",
        "* Por fim, a variável `Rings`, mostra que grande parte dos abalones tem uma idade média, com um pico em torno de 10 anéis."
      ],
      "metadata": {
        "id": "pgZ2CmWIbOK7"
      }
    },
    {
      "cell_type": "markdown",
      "metadata": {
        "id": "PaQqsaz_4YWC"
      },
      "source": [
        "### **3. Qual é a distribuição dos abalones por sexo?**\n",
        "\n",
        "O atributo `Sex` representa uma variável categórica que classifica os abalones em três categorias: `M` para masculino, `F` para feminino e `I` para infantil (abalones que ainda não atingiram a fase adulta). Para compreender a distribuição desses grupos, analisaremos a contagem de cada categoria.\n"
      ]
    },
    {
      "cell_type": "code",
      "source": [
        "fig, ax = plt.subplots(figsize=(10, 6), dpi=72)\n",
        "sns.countplot(data=df_abalones, x='Sex', palette=['#009FFD','#89DAFF', '#00E8FC'],\n",
        "              linewidth=0, edgecolor=\"none\", ax=ax)\n",
        "ax.spines['right'].set_visible(False)\n",
        "ax.spines['top'].set_visible(False)\n",
        "ax.set_title('Distribuição de Sex')\n",
        "ax.set_ylabel('Frequência')\n",
        "plt.tight_layout()"
      ],
      "metadata": {
        "colab": {
          "base_uri": "https://localhost:8080/",
          "height": 441
        },
        "id": "nvgDL8Cxwl5f",
        "outputId": "5bfe93af-8635-466b-dbe7-8db1bfdb5edc"
      },
      "execution_count": null,
      "outputs": [
        {
          "output_type": "display_data",
          "data": {
            "text/plain": [
              "<Figure size 720x432 with 1 Axes>"
            ],
            "image/png": "[encoded data removed]"
          },
          "metadata": {}
        }
      ]
    },
    {
      "cell_type": "markdown",
      "source": [
        "Analisando o grafico acima, podemos concluir que a distribuição de `sex` é relativamente equilibrada, mas há um pouco mais de abalones masculinos(0.36) e infantil(0.32) em comparação com feminino(0.31)."
      ],
      "metadata": {
        "id": "GNaftbfQ3VWL"
      }
    },
    {
      "cell_type": "markdown",
      "metadata": {
        "id": "7x4aw1j5wNmn"
      },
      "source": [
        "### **4. Há *outliers* presentes?**\n"
      ]
    },
    {
      "cell_type": "markdown",
      "source": [
        "Outliers, ou valores discrepantes, são observações que se distanciam significativamente do padrão geral dos dados. Eles podem resultar de erros de medição, variabilidade natural ou outras causas desconhecidas. Identificar e lidar com esses valores é essencial, pois podem influenciar negativamente a performance dos modelos preditivos e a precisão das análises estatísticas."
      ],
      "metadata": {
        "id": "_L5paloIo0jg"
      }
    },
    {
      "cell_type": "markdown",
      "metadata": {
        "id": "hKzxRwytG66S"
      },
      "source": [
        "**<h4> Método do Intervalo Interquartil (IQR)</h4>**\n",
        "\n",
        "O intervalo interquartil (IQR) mede a dispersão dos 50% centrais dos dados, calculado como a diferença entre o terceiro (Q3) e o primeiro quartil (Q1):\n",
        "\n",
        "$$\\text{IQR} = Q3 - Q1$$\n",
        "\n",
        "Outliers são identificados pelos limites inferior e superior:\n",
        "\n",
        "$$\\text{Limite Inferior} = Q1 - 1.5 \\times \\text{IQR}$$\n",
        "$$\\text{Limite Superior} = Q3 + 1.5 \\times \\text{IQR}$$\n",
        "\n",
        "Valores fora desse intervalo são outliers:\n",
        "* Inferior: menor que o Limite Inferior.\n",
        "* Superior: maior que o Limite Superior.\n",
        "\n",
        "\n",
        "\n",
        "\n",
        "\n"
      ]
    },
    {
      "cell_type": "markdown",
      "metadata": {
        "id": "-GHu0LkDlPCH"
      },
      "source": [
        "A seguir, criarei uma função chamada `detect_outliers_iqr` que utiliza o método do intervalo interquartil (IQR). Esta função será aplicada às variáveis numéricas do dataset.\n"
      ]
    },
    {
      "cell_type": "code",
      "execution_count": null,
      "metadata": {
        "id": "tN93oMPHCHk_"
      },
      "outputs": [],
      "source": [
        "def detect_outliers_iqr(data):\n",
        "    Q1 = np.nanpercentile(data, 25)\n",
        "    Q3 = np.nanpercentile(data, 75)\n",
        "    IQR = Q3 - Q1\n",
        "    lower_bound = Q1 - 1.5 * IQR\n",
        "    upper_bound = Q3 + 1.5 * IQR\n",
        "    n_outliers = ((data < lower_bound) | (data > upper_bound))\n",
        "    return n_outliers"
      ]
    },
    {
      "cell_type": "markdown",
      "metadata": {
        "id": "Vvpm_bF0uVCy"
      },
      "source": [
        "aqui, irei aplicar a função `detect_outliers_iqr` e, em seguida, imprimir a quantidade de outliers encontrados em cada coluna"
      ]
    },
    {
      "cell_type": "code",
      "source": [
        "for column in num_columns:\n",
        "    result = detect_outliers_iqr(df_abalones[column].values)\n",
        "    print(f'{column}: qtd de outliers - {result.sum()}')"
      ],
      "metadata": {
        "colab": {
          "base_uri": "https://localhost:8080/"
        },
        "id": "0759n_c1q1W3",
        "outputId": "eb69dd1d-2e8a-431f-b271-61f815c1aef9"
      },
      "execution_count": null,
      "outputs": [
        {
          "output_type": "stream",
          "name": "stdout",
          "text": [
            "Length: qtd de outliers - 49\n",
            "Diameter: qtd de outliers - 59\n",
            "Height: qtd de outliers - 29\n",
            "Whole_weight: qtd de outliers - 30\n",
            "Shucked_weight: qtd de outliers - 48\n",
            "Viscera_weight: qtd de outliers - 26\n",
            "Shell_weight: qtd de outliers - 35\n",
            "Rings: qtd de outliers - 278\n"
          ]
        }
      ]
    },
    {
      "cell_type": "markdown",
      "metadata": {
        "id": "8bJoU_f0lFgy"
      },
      "source": [
        "Podemos constatar que todas das variaveis numericas  no dataset possuem outliers detectáveis pelo método do IQR.\n",
        "\n",
        "A análise do boxplot para as colunas numericas reforça essa hipótese. O boxplot utiliza os quartis e a amplitude interquartil (IQR) para determinar os limites além dos quais os dados são considerados outliers."
      ]
    },
    {
      "cell_type": "code",
      "execution_count": null,
      "metadata": {
        "id": "mIbD2XFNXB1g"
      },
      "outputs": [],
      "source": [
        "def custom_boxplot(data, columns, colors, grid_shape=(2, 3), figsize=(14, 8), dpi=72):\n",
        "    n_rows, n_cols = grid_shape\n",
        "    fig, ax = plt.subplots(n_rows, n_cols, figsize=figsize, dpi=dpi)\n",
        "    axes = ax.flatten()\n",
        "\n",
        "    for axis, column, color in zip(axes, columns, colors):\n",
        "        sns.boxplot(data=data, x=column, color=color, ax=axis)\n",
        "        axis.spines['right'].set_visible(False)\n",
        "        axis.spines['top'].set_visible(False)\n",
        "\n",
        "    for remaining_ax in axes[len(columns):]:\n",
        "        remaining_ax.set_visible(False)\n",
        "\n",
        "    return plt.tight_layout()"
      ]
    },
    {
      "cell_type": "markdown",
      "source": [
        "A seguir, utilizamos a biblioteca Seaborn para gerar boxplots que permitem visualizar presença de outliers das variáveis numéricas no dataset."
      ],
      "metadata": {
        "id": "4zj_JpJE2TeG"
      }
    },
    {
      "cell_type": "code",
      "source": [
        "custom_boxplot(data=df_abalones, colors=['dodgerblue']*8,\n",
        "               columns=num_columns,\n",
        "               grid_shape=(2, 4),figsize=(15, 7))"
      ],
      "metadata": {
        "colab": {
          "base_uri": "https://localhost:8080/",
          "height": 513
        },
        "id": "hACDtOOXssmH",
        "outputId": "684736f0-7619-43b1-aedf-6494ee7528af"
      },
      "execution_count": null,
      "outputs": [
        {
          "output_type": "display_data",
          "data": {
            "text/plain": [
              "<Figure size 1080x504 with 8 Axes>"
            ],
            "image/png": "[encoded data removed]"
          },
          "metadata": {}
        }
      ]
    },
    {
      "cell_type": "markdown",
      "metadata": {
        "id": "hrG1T1tgwUZh"
      },
      "source": [
        "Na etapa de pré-processamento, iremos aplicar um tratamento adequado aos  outliers e garantir que o modelo de machine learning não seja influenciado por eles."
      ]
    },
    {
      "cell_type": "markdown",
      "metadata": {
        "id": "MfhW5sp9VXon"
      },
      "source": [
        "### **5. Qual é o volume dos abalones?**\n",
        "\n",
        "\n",
        "\n"
      ]
    },
    {
      "cell_type": "markdown",
      "source": [
        "Para entender melhor as características físicas dos abalones e como elas podem influenciar a predição de sua idade, iremos calcular o volume desses moluscos. Uma forma eficaz de fazer isso é aproximar os abalones como elipsoides, que são formas tridimensionais alongadas semelhantes a uma esfera achatada.\n",
        "\n",
        "O volume de um elipsoide pode ser calculado usando a seguinte fórmula:\n",
        "\n",
        "$$V = \\frac{4}{3} \\pi a b c \\ $$\n",
        "\n",
        "onde $(a)$, $(b)$ e $( c )$ são os semi-eixos do elipsoide. No contexto do nosso dataset, podemos utilizar as seguintes variáveis:\n",
        "\n",
        "- $(a)$: metade do comprimento (Length / 2)\n",
        "- $(b)$: metade do diâmetro (Diameter / 2)\n",
        "- $(c)$: metade da altura (Height / 2)\n",
        "\n",
        "Ao aplicar esta fórmula, podemos obter um volume aproximado para cada abalone."
      ],
      "metadata": {
        "id": "RqLZFIG6hqFu"
      }
    },
    {
      "cell_type": "code",
      "source": [
        "volume = (4/3) * np.pi * (df_abalones['Length']/2) * (df_abalones['Diameter']/2) * (df_abalones['Height']/2)\n",
        "df_abalones['Volume'] = volume\n",
        "df_abalones.head()"
      ],
      "metadata": {
        "colab": {
          "base_uri": "https://localhost:8080/",
          "height": 226
        },
        "id": "BfCdZtzCXS-5",
        "outputId": "1b541bf3-02a0-4edd-f5f2-df6277d5b9d5"
      },
      "execution_count": null,
      "outputs": [
        {
          "output_type": "execute_result",
          "data": {
            "text/plain": [
              "  Sex  Length  Diameter  Height  Whole_weight  Shucked_weight  Viscera_weight  \\\n",
              "1   M   0.455     0.365   0.095        0.5140          0.2245          0.1010   \n",
              "2   M   0.350     0.265   0.090        0.2255          0.0995          0.0485   \n",
              "3   F   0.530     0.420   0.135        0.6770          0.2565          0.1415   \n",
              "4   M   0.440     0.365   0.125        0.5160          0.2155          0.1140   \n",
              "5   I   0.330     0.255   0.080        0.2050          0.0895          0.0395   \n",
              "\n",
              "   Shell_weight  Rings    Volume  \n",
              "1         0.150     15  0.008261  \n",
              "2         0.070      7  0.004371  \n",
              "3         0.210      9  0.015735  \n",
              "4         0.155     10  0.010511  \n",
              "5         0.055      7  0.003525  "
            ],
            "text/html": [
              "\n",
              "  <div id=\"df-85558a40-a8f1-4233-9226-f5e9953046d1\" class=\"colab-df-container\">\n",
              "    <div>\n",
              "<style scoped>\n",
              "    .dataframe tbody tr th:only-of-type {\n",
              "        vertical-align: middle;\n",
              "    }\n",
              "\n",
              "    .dataframe tbody tr th {\n",
              "        vertical-align: top;\n",
              "    }\n",
              "\n",
              "    .dataframe thead th {\n",
              "        text-align: right;\n",
              "    }\n",
              "</style>\n",
              "<table border=\"1\" class=\"dataframe\">\n",
              "  <thead>\n",
              "    <tr style=\"text-align: right;\">\n",
              "      <th></th>\n",
              "      <th>Sex</th>\n",
              "      <th>Length</th>\n",
              "      <th>Diameter</th>\n",
              "      <th>Height</th>\n",
              "      <th>Whole_weight</th>\n",
              "      <th>Shucked_weight</th>\n",
              "      <th>Viscera_weight</th>\n",
              "      <th>Shell_weight</th>\n",
              "      <th>Rings</th>\n",
              "      <th>Volume</th>\n",
              "    </tr>\n",
              "  </thead>\n",
              "  <tbody>\n",
              "    <tr>\n",
              "      <th>1</th>\n",
              "      <td>M</td>\n",
              "      <td>0.455</td>\n",
              "      <td>0.365</td>\n",
              "      <td>0.095</td>\n",
              "      <td>0.5140</td>\n",
              "      <td>0.2245</td>\n",
              "      <td>0.1010</td>\n",
              "      <td>0.150</td>\n",
              "      <td>15</td>\n",
              "      <td>0.008261</td>\n",
              "    </tr>\n",
              "    <tr>\n",
              "      <th>2</th>\n",
              "      <td>M</td>\n",
              "      <td>0.350</td>\n",
              "      <td>0.265</td>\n",
              "      <td>0.090</td>\n",
              "      <td>0.2255</td>\n",
              "      <td>0.0995</td>\n",
              "      <td>0.0485</td>\n",
              "      <td>0.070</td>\n",
              "      <td>7</td>\n",
              "      <td>0.004371</td>\n",
              "    </tr>\n",
              "    <tr>\n",
              "      <th>3</th>\n",
              "      <td>F</td>\n",
              "      <td>0.530</td>\n",
              "      <td>0.420</td>\n",
              "      <td>0.135</td>\n",
              "      <td>0.6770</td>\n",
              "      <td>0.2565</td>\n",
              "      <td>0.1415</td>\n",
              "      <td>0.210</td>\n",
              "      <td>9</td>\n",
              "      <td>0.015735</td>\n",
              "    </tr>\n",
              "    <tr>\n",
              "      <th>4</th>\n",
              "      <td>M</td>\n",
              "      <td>0.440</td>\n",
              "      <td>0.365</td>\n",
              "      <td>0.125</td>\n",
              "      <td>0.5160</td>\n",
              "      <td>0.2155</td>\n",
              "      <td>0.1140</td>\n",
              "      <td>0.155</td>\n",
              "      <td>10</td>\n",
              "      <td>0.010511</td>\n",
              "    </tr>\n",
              "    <tr>\n",
              "      <th>5</th>\n",
              "      <td>I</td>\n",
              "      <td>0.330</td>\n",
              "      <td>0.255</td>\n",
              "      <td>0.080</td>\n",
              "      <td>0.2050</td>\n",
              "      <td>0.0895</td>\n",
              "      <td>0.0395</td>\n",
              "      <td>0.055</td>\n",
              "      <td>7</td>\n",
              "      <td>0.003525</td>\n",
              "    </tr>\n",
              "  </tbody>\n",
              "</table>\n",
              "</div>\n",
              "    <div class=\"colab-df-buttons\">\n",
              "\n",
              "  <div class=\"colab-df-container\">\n",
              "    <button class=\"colab-df-convert\" onclick=\"convertToInteractive('df-85558a40-a8f1-4233-9226-f5e9953046d1')\"\n",
              "            title=\"Convert this dataframe to an interactive table.\"\n",
              "            style=\"display:none;\">\n",
              "\n",
              "  <svg xmlns=\"http://www.w3.org/2000/svg\" height=\"24px\" viewBox=\"0 -960 960 960\">\n",
              "    <path d=\"M120-120v-720h720v720H120Zm60-500h600v-160H180v160Zm220 220h160v-160H400v160Zm0 220h160v-160H400v160ZM180-400h160v-160H180v160Zm440 0h160v-160H620v160ZM180-180h160v-160H180v160Zm440 0h160v-160H620v160Z\"/>\n",
              "  </svg>\n",
              "    </button>\n",
              "\n",
              "  <style>\n",
              "    .colab-df-container {\n",
              "      display:flex;\n",
              "      gap: 12px;\n",
              "    }\n",
              "\n",
              "    .colab-df-convert {\n",
              "      background-color: #E8F0FE;\n",
              "      border: none;\n",
              "      border-radius: 50%;\n",
              "      cursor: pointer;\n",
              "      display: none;\n",
              "      fill: #1967D2;\n",
              "      height: 32px;\n",
              "      padding: 0 0 0 0;\n",
              "      width: 32px;\n",
              "    }\n",
              "\n",
              "    .colab-df-convert:hover {\n",
              "      background-color: #E2EBFA;\n",
              "      box-shadow: 0px 1px 2px rgba(60, 64, 67, 0.3), 0px 1px 3px 1px rgba(60, 64, 67, 0.15);\n",
              "      fill: #174EA6;\n",
              "    }\n",
              "\n",
              "    .colab-df-buttons div {\n",
              "      margin-bottom: 4px;\n",
              "    }\n",
              "\n",
              "    [theme=dark] .colab-df-convert {\n",
              "      background-color: #3B4455;\n",
              "      fill: #D2E3FC;\n",
              "    }\n",
              "\n",
              "    [theme=dark] .colab-df-convert:hover {\n",
              "      background-color: #434B5C;\n",
              "      box-shadow: 0px 1px 3px 1px rgba(0, 0, 0, 0.15);\n",
              "      filter: drop-shadow(0px 1px 2px rgba(0, 0, 0, 0.3));\n",
              "      fill: #FFFFFF;\n",
              "    }\n",
              "  </style>\n",
              "\n",
              "    <script>\n",
              "      const buttonEl =\n",
              "        document.querySelector('#df-85558a40-a8f1-4233-9226-f5e9953046d1 button.colab-df-convert');\n",
              "      buttonEl.style.display =\n",
              "        google.colab.kernel.accessAllowed ? 'block' : 'none';\n",
              "\n",
              "      async function convertToInteractive(key) {\n",
              "        const element = document.querySelector('#df-85558a40-a8f1-4233-9226-f5e9953046d1');\n",
              "        const dataTable =\n",
              "          await google.colab.kernel.invokeFunction('convertToInteractive',\n",
              "                                                    [key], {});\n",
              "        if (!dataTable) return;\n",
              "\n",
              "        const docLinkHtml = 'Like what you see? Visit the ' +\n",
              "          '<a target=\"_blank\" href=https://colab.research.google.com/notebooks/data_table.ipynb>data table notebook</a>'\n",
              "          + ' to learn more about interactive tables.';\n",
              "        element.innerHTML = '';\n",
              "        dataTable['output_type'] = 'display_data';\n",
              "        await google.colab.output.renderOutput(dataTable, element);\n",
              "        const docLink = document.createElement('div');\n",
              "        docLink.innerHTML = docLinkHtml;\n",
              "        element.appendChild(docLink);\n",
              "      }\n",
              "    </script>\n",
              "  </div>\n",
              "\n",
              "\n",
              "<div id=\"df-b90350b6-6077-4f36-a911-ed807eb2b748\">\n",
              "  <button class=\"colab-df-quickchart\" onclick=\"quickchart('df-b90350b6-6077-4f36-a911-ed807eb2b748')\"\n",
              "            title=\"Suggest charts\"\n",
              "            style=\"display:none;\">\n",
              "\n",
              "<svg xmlns=\"http://www.w3.org/2000/svg\" height=\"24px\"viewBox=\"0 0 24 24\"\n",
              "     width=\"24px\">\n",
              "    <g>\n",
              "        <path d=\"M19 3H5c-1.1 0-2 .9-2 2v14c0 1.1.9 2 2 2h14c1.1 0 2-.9 2-2V5c0-1.1-.9-2-2-2zM9 17H7v-7h2v7zm4 0h-2V7h2v10zm4 0h-2v-4h2v4z\"/>\n",
              "    </g>\n",
              "</svg>\n",
              "  </button>\n",
              "\n",
              "<style>\n",
              "  .colab-df-quickchart {\n",
              "      --bg-color: #E8F0FE;\n",
              "      --fill-color: #1967D2;\n",
              "      --hover-bg-color: #E2EBFA;\n",
              "      --hover-fill-color: #174EA6;\n",
              "      --disabled-fill-color: #AAA;\n",
              "      --disabled-bg-color: #DDD;\n",
              "  }\n",
              "\n",
              "  [theme=dark] .colab-df-quickchart {\n",
              "      --bg-color: #3B4455;\n",
              "      --fill-color: #D2E3FC;\n",
              "      --hover-bg-color: #434B5C;\n",
              "      --hover-fill-color: #FFFFFF;\n",
              "      --disabled-bg-color: #3B4455;\n",
              "      --disabled-fill-color: #666;\n",
              "  }\n",
              "\n",
              "  .colab-df-quickchart {\n",
              "    background-color: var(--bg-color);\n",
              "    border: none;\n",
              "    border-radius: 50%;\n",
              "    cursor: pointer;\n",
              "    display: none;\n",
              "    fill: var(--fill-color);\n",
              "    height: 32px;\n",
              "    padding: 0;\n",
              "    width: 32px;\n",
              "  }\n",
              "\n",
              "  .colab-df-quickchart:hover {\n",
              "    background-color: var(--hover-bg-color);\n",
              "    box-shadow: 0 1px 2px rgba(60, 64, 67, 0.3), 0 1px 3px 1px rgba(60, 64, 67, 0.15);\n",
              "    fill: var(--button-hover-fill-color);\n",
              "  }\n",
              "\n",
              "  .colab-df-quickchart-complete:disabled,\n",
              "  .colab-df-quickchart-complete:disabled:hover {\n",
              "    background-color: var(--disabled-bg-color);\n",
              "    fill: var(--disabled-fill-color);\n",
              "    box-shadow: none;\n",
              "  }\n",
              "\n",
              "  .colab-df-spinner {\n",
              "    border: 2px solid var(--fill-color);\n",
              "    border-color: transparent;\n",
              "    border-bottom-color: var(--fill-color);\n",
              "    animation:\n",
              "      spin 1s steps(1) infinite;\n",
              "  }\n",
              "\n",
              "  @keyframes spin {\n",
              "    0% {\n",
              "      border-color: transparent;\n",
              "      border-bottom-color: var(--fill-color);\n",
              "      border-left-color: var(--fill-color);\n",
              "    }\n",
              "    20% {\n",
              "      border-color: transparent;\n",
              "      border-left-color: var(--fill-color);\n",
              "      border-top-color: var(--fill-color);\n",
              "    }\n",
              "    30% {\n",
              "      border-color: transparent;\n",
              "      border-left-color: var(--fill-color);\n",
              "      border-top-color: var(--fill-color);\n",
              "      border-right-color: var(--fill-color);\n",
              "    }\n",
              "    40% {\n",
              "      border-color: transparent;\n",
              "      border-right-color: var(--fill-color);\n",
              "      border-top-color: var(--fill-color);\n",
              "    }\n",
              "    60% {\n",
              "      border-color: transparent;\n",
              "      border-right-color: var(--fill-color);\n",
              "    }\n",
              "    80% {\n",
              "      border-color: transparent;\n",
              "      border-right-color: var(--fill-color);\n",
              "      border-bottom-color: var(--fill-color);\n",
              "    }\n",
              "    90% {\n",
              "      border-color: transparent;\n",
              "      border-bottom-color: var(--fill-color);\n",
              "    }\n",
              "  }\n",
              "</style>\n",
              "\n",
              "  <script>\n",
              "    async function quickchart(key) {\n",
              "      const quickchartButtonEl =\n",
              "        document.querySelector('#' + key + ' button');\n",
              "      quickchartButtonEl.disabled = true;  // To prevent multiple clicks.\n",
              "      quickchartButtonEl.classList.add('colab-df-spinner');\n",
              "      try {\n",
              "        const charts = await google.colab.kernel.invokeFunction(\n",
              "            'suggestCharts', [key], {});\n",
              "      } catch (error) {\n",
              "        console.error('Error during call to suggestCharts:', error);\n",
              "      }\n",
              "      quickchartButtonEl.classList.remove('colab-df-spinner');\n",
              "      quickchartButtonEl.classList.add('colab-df-quickchart-complete');\n",
              "    }\n",
              "    (() => {\n",
              "      let quickchartButtonEl =\n",
              "        document.querySelector('#df-b90350b6-6077-4f36-a911-ed807eb2b748 button');\n",
              "      quickchartButtonEl.style.display =\n",
              "        google.colab.kernel.accessAllowed ? 'block' : 'none';\n",
              "    })();\n",
              "  </script>\n",
              "</div>\n",
              "\n",
              "    </div>\n",
              "  </div>\n"
            ],
            "application/vnd.google.colaboratory.intrinsic+json": {
              "type": "dataframe",
              "variable_name": "df_abalones",
              "summary": "{\n  \"name\": \"df_abalones\",\n  \"rows\": 4177,\n  \"fields\": [\n    {\n      \"column\": \"Sex\",\n      \"properties\": {\n        \"dtype\": \"category\",\n        \"num_unique_values\": 3,\n        \"samples\": [\n          \"M\",\n          \"F\",\n          \"I\"\n        ],\n        \"semantic_type\": \"\",\n        \"description\": \"\"\n      }\n    },\n    {\n      \"column\": \"Length\",\n      \"properties\": {\n        \"dtype\": \"number\",\n        \"std\": 0.12009291256479998,\n        \"min\": 0.075,\n        \"max\": 0.815,\n        \"num_unique_values\": 134,\n        \"samples\": [\n          0.815,\n          0.65,\n          0.29\n        ],\n        \"semantic_type\": \"\",\n        \"description\": \"\"\n      }\n    },\n    {\n      \"column\": \"Diameter\",\n      \"properties\": {\n        \"dtype\": \"number\",\n        \"std\": 0.09923986613365918,\n        \"min\": 0.055,\n        \"max\": 0.65,\n        \"num_unique_values\": 111,\n        \"samples\": [\n          0.09,\n          0.35,\n          0.3\n        ],\n        \"semantic_type\": \"\",\n        \"description\": \"\"\n      }\n    },\n    {\n      \"column\": \"Height\",\n      \"properties\": {\n        \"dtype\": \"number\",\n        \"std\": 0.04182705660725703,\n        \"min\": 0.0,\n        \"max\": 1.13,\n        \"num_unique_values\": 51,\n        \"samples\": [\n          0.235,\n          0.035,\n          0.015\n        ],\n        \"semantic_type\": \"\",\n        \"description\": \"\"\n      }\n    },\n    {\n      \"column\": \"Whole_weight\",\n      \"properties\": {\n        \"dtype\": \"number\",\n        \"std\": 0.49038901823099723,\n        \"min\": 0.002,\n        \"max\": 2.8255,\n        \"num_unique_values\": 2429,\n        \"samples\": [\n          1.2825,\n          1.09,\n          0.131\n        ],\n        \"semantic_type\": \"\",\n        \"description\": \"\"\n      }\n    },\n    {\n      \"column\": \"Shucked_weight\",\n      \"properties\": {\n        \"dtype\": \"number\",\n        \"std\": 0.22196294903322014,\n        \"min\": 0.001,\n        \"max\": 1.488,\n        \"num_unique_values\": 1515,\n        \"samples\": [\n          0.2105,\n          0.0645,\n          0.476\n        ],\n        \"semantic_type\": \"\",\n        \"description\": \"\"\n      }\n    },\n    {\n      \"column\": \"Viscera_weight\",\n      \"properties\": {\n        \"dtype\": \"number\",\n        \"std\": 0.10961425025968442,\n        \"min\": 0.0005,\n        \"max\": 0.76,\n        \"num_unique_values\": 880,\n        \"samples\": [\n          0.0645,\n          0.0095,\n          0.1115\n        ],\n        \"semantic_type\": \"\",\n        \"description\": \"\"\n      }\n    },\n    {\n      \"column\": \"Shell_weight\",\n      \"properties\": {\n        \"dtype\": \"number\",\n        \"std\": 0.13920266952238575,\n        \"min\": 0.0015,\n        \"max\": 1.005,\n        \"num_unique_values\": 926,\n        \"samples\": [\n          0.3745,\n          0.2825,\n          0.49\n        ],\n        \"semantic_type\": \"\",\n        \"description\": \"\"\n      }\n    },\n    {\n      \"column\": \"Rings\",\n      \"properties\": {\n        \"dtype\": \"number\",\n        \"std\": 3,\n        \"min\": 1,\n        \"max\": 29,\n        \"num_unique_values\": 28,\n        \"samples\": [\n          11,\n          27,\n          14\n        ],\n        \"semantic_type\": \"\",\n        \"description\": \"\"\n      }\n    },\n    {\n      \"column\": \"Volume\",\n      \"properties\": {\n        \"dtype\": \"number\",\n        \"std\": 0.011075784199490473,\n        \"min\": 0.0,\n        \"max\": 0.10740967837944906,\n        \"num_unique_values\": 3235,\n        \"samples\": [\n          0.019921624414576275,\n          0.011707079573755415,\n          0.006371542600561799\n        ],\n        \"semantic_type\": \"\",\n        \"description\": \"\"\n      }\n    }\n  ]\n}"
            }
          },
          "metadata": {},
          "execution_count": 6
        }
      ]
    },
    {
      "cell_type": "markdown",
      "metadata": {
        "id": "3kjfTiHKJ6ru"
      },
      "source": [
        "### **6. Qual a correlação existente entre as variáveis?**"
      ]
    },
    {
      "cell_type": "markdown",
      "metadata": {
        "id": "hXsrjiMuskTo"
      },
      "source": [
        "A correlação é uma medida que descreve a direção e a intensidade da relação entre duas ou mais variáveis. Para determinar as correlações existentes entre as variáveis de interesse, é comum gerar uma matriz de correlação. Essa matriz é composta por coeficientes de correlação que indicam a força e a direção da relação entre cada par de variáveis."
      ]
    },
    {
      "cell_type": "markdown",
      "source": [
        "* Para analisar as relações entre as variáveis numéricas do dataset, podemos utilizar a matriz de correlação. No código abaixo, calculamos a matriz de correlação das colunas numéricas e visualizamos esta matriz usando um heatmap."
      ],
      "metadata": {
        "id": "dSmHYhUkf_y1"
      }
    },
    {
      "cell_type": "code",
      "source": [
        "corr = df_abalones[num_columns].corr()\n",
        "sns.heatmap(corr, cmap='YlGnBu', fmt='.2f', square=True, linecolor='white', annot=True);"
      ],
      "metadata": {
        "colab": {
          "base_uri": "https://localhost:8080/",
          "height": 534
        },
        "id": "1C8wSf5BFaZ_",
        "outputId": "041bdaaa-9ddc-44f6-996c-005520025ce7"
      },
      "execution_count": null,
      "outputs": [
        {
          "output_type": "display_data",
          "data": {
            "text/plain": [
              "<Figure size 640x480 with 2 Axes>"
            ],
            "image/png": "[encoded data removed]"
          },
          "metadata": {}
        }
      ]
    },
    {
      "cell_type": "markdown",
      "source": [
        "Analisando as correlaçoes geradas pelo heatmap, podemos tirar as seguintes conclusões:\n",
        "\n",
        "* De modo geral, as medidas físicas (como comprimento, diâmetro, altura e volume) e os pesos (total, carne, vísceras, concha) apresentam uma forte relação entre si. No entanto, essas variáveis mostram uma influência que é moderada sobre o atributo alvo (Rings), com destaque a variavel (shell_weight), que possui a correlação mais significativa (0.63) em relação as outras variaveis. Essa constatação sugere que supostamente, além do crescimento físico, outros fatores podem ter uma influencia mais determinante a idade dos abalones.\n"
      ],
      "metadata": {
        "id": "9tPIfInfbHXH"
      }
    },
    {
      "cell_type": "markdown",
      "metadata": {
        "id": "-ZK0KhjkVswL"
      },
      "source": [
        "##  Pré-processamento de dados\n",
        "\n",
        "Com base nos resultados da análise exploratória, podemos direcionar nossos esforços para o pré-processamento dos dados. Essa etapa inclui uma série de atividades que têm como objetivo preparar os dados para modelagem, tornando-os mais adequados para uso em modelos e algoritmos. As atividades que realizamos incluem limpeza dos dados, Tratamento de outliers, normalização, codificação de variáveis e inclui a divisão dos dados em conjuntos de treinamento e teste e entre outros."
      ]
    },
    {
      "cell_type": "code",
      "source": [
        "from sklearn.model_selection import train_test_split\n",
        "from sklearn.preprocessing import OneHotEncoder\n",
        "from sklearn.preprocessing import RobustScaler"
      ],
      "metadata": {
        "id": "WtrqCq_OpZsI"
      },
      "execution_count": null,
      "outputs": []
    },
    {
      "cell_type": "markdown",
      "metadata": {
        "id": "MNFz_SCbFP3B"
      },
      "source": [
        "### **Tratamento de outliers**\n",
        "Na Análise Exploratória de Dados, verificamos que todas as variáveis numéricas do dataset apresentavam outliers. Existem diversas abordagens para tratar esses valores discrepantes, cada uma com suas vantagens e limitações. Entre as opções estão remoção, imputação, capping e transformação. Nesta etapa, aplicaremos a opção mais adequada para mitigar o impacto negativo que os outliers podem causar na performance dos modelos preditivos."
      ]
    },
    {
      "cell_type": "markdown",
      "source": [
        "* A seguir, irei remover linhas com valores zero em `Height` e `Volume` e tratar outliers nas colunas numéricas substituindo-os pela mediana usando o método IQR."
      ],
      "metadata": {
        "id": "O_sLAkwfSNsO"
      }
    },
    {
      "cell_type": "code",
      "source": [
        "zero_index = df_abalones[df_abalones[['Height']].eq(0).any(axis=1)].index.copy()\n",
        "df_abalones.drop(index=zero_index, inplace=True)"
      ],
      "metadata": {
        "id": "8ikDNGsJFaq_"
      },
      "execution_count": null,
      "outputs": []
    },
    {
      "cell_type": "markdown",
      "metadata": {
        "id": "83b4YEUI0cFU"
      },
      "source": [
        "### **Separando entre Treino e Teste**\n",
        "A separação de dados em treino e teste é um processo importante em machine learning. O objetivo é dividir os dados em dois conjuntos: um para treinar o modelo e outro para testá-lo. Isso é feito para evitar que o modelo seja treinado de forma a se adaptar apenas aos dados de treino, o que pode levar a problemas como overfitting.\n"
      ]
    },
    {
      "cell_type": "code",
      "source": [
        "features = df_abalones.drop(columns='Rings').copy()\n",
        "target = df_abalones.Rings.copy()\n",
        "X_train, X_test, y_train, y_test = train_test_split(features, target, test_size=0.10, random_state=0,shuffle=True)"
      ],
      "metadata": {
        "id": "beDeWfeyodS9"
      },
      "execution_count": null,
      "outputs": []
    },
    {
      "cell_type": "markdown",
      "metadata": {
        "id": "tE85kpeol2ND"
      },
      "source": [
        "**Conjunto de Treino**\n",
        "\n",
        "O conjunto de dados de treinamento é utilizado para treinar o modelo, desenvolver o pipeline de processamento dos dados e criar nossa baseline. Esta baseline será usada como referência para selecionar o modelo que será otimizado."
      ]
    },
    {
      "cell_type": "code",
      "source": [
        "print(f'X_train: shape:{X_train.shape}')\n",
        "print(f'y_train: shape:{y_train.shape}')"
      ],
      "metadata": {
        "colab": {
          "base_uri": "https://localhost:8080/"
        },
        "id": "dGJfowXVqQ6h",
        "outputId": "fa08ccef-cf66-4e1f-f836-a428bdc84165"
      },
      "execution_count": null,
      "outputs": [
        {
          "output_type": "stream",
          "name": "stdout",
          "text": [
            "X_train: shape:(3757, 9)\n",
            "y_train: shape:(3757,)\n"
          ]
        }
      ]
    },
    {
      "cell_type": "markdown",
      "metadata": {
        "id": "YKvbZ3A8o8Ic"
      },
      "source": [
        "**Conjunto de Teste**\n",
        "\n",
        "Esse conjunto é utilizado apenas no final, com o seu modelo pronto, e otimizado, para testar o resultado do modelo pronto com dados novos, da mesma forma que ele receberá esses dados no mundo real."
      ]
    },
    {
      "cell_type": "code",
      "source": [
        "print(f'X_test: shape:{X_test.shape}')\n",
        "print(f'y_test: shape:{y_test.shape}')"
      ],
      "metadata": {
        "colab": {
          "base_uri": "https://localhost:8080/"
        },
        "id": "xaweOqW4seGv",
        "outputId": "57cfbb34-921b-4f5d-ca98-a59496624818"
      },
      "execution_count": null,
      "outputs": [
        {
          "output_type": "stream",
          "name": "stdout",
          "text": [
            "X_test: shape:(418, 9)\n",
            "y_test: shape:(418,)\n"
          ]
        }
      ]
    },
    {
      "cell_type": "markdown",
      "metadata": {
        "id": "nzP-ltjhhGkB"
      },
      "source": [
        "### **Codificação de variáveis categóricas - One-Hot Encoder**\n",
        "\n",
        "Na análise exploratoria de dados, é comum trabalhar com variáveis ​​categóricas, que representam características qualitativas de um conjunto de dados. No entanto, muitos algoritmos de Machine learning exigem que os dados de entrada sejam numéricos. É necessário converter essas variáveis ​​categóricas em um formato numérico, preservando as informações originais. One-Hot Encoder é uma técnica de pré-processamento que é usada para converter variáveis categóricas em vetores binários. Ele cria um novo recurso para cada categoria única e atribui um valor binário (1 ou 0) para cada recurso, indicando se a amostra tem ou não a categoria correspondente."
      ]
    },
    {
      "cell_type": "markdown",
      "source": [
        "Aqui, Utilizei a classe OneHotEncoder da biblioteca category_encoders para realizar a codificação one-hot da variável categórica `Sex` presente no conjunto de dados de treinamento."
      ],
      "metadata": {
        "id": "4ZsBNmNt3UxJ"
      }
    },
    {
      "cell_type": "code",
      "source": [
        "encoder = OneHotEncoder(handle_unknown='ignore')\n",
        "X_train_enc = encoder.fit_transform(X_train[['Sex']].copy())\n",
        "X_train_enc = pd.DataFrame(X_train_enc.toarray().astype('int'), columns=encoder.get_feature_names_out(['Sex']))\n",
        "X_train_enc.reset_index(drop=True, inplace=True)"
      ],
      "metadata": {
        "id": "cRXtnOZm2HAm"
      },
      "execution_count": null,
      "outputs": []
    },
    {
      "cell_type": "markdown",
      "source": [
        "### **Padronização de dados - Robust Scaler**\n",
        "\n",
        "A padronização de dados consiste na transformação de variáveis numéricas para uma escala comum. O objetivo é normalizar as escalas das variáveis, evitando que qualquer uma delas exerça influência excessiva sobre os modelos.\n",
        "\n",
        "O Robust Scaler é uma técnica de padronização de dados que é menos sensível a outliers do que o tradicional Standard Scaler. Enquanto o Standard Scaler utiliza a média e o desvio padrão para realizar a padronização, o Robust Scaler usa a mediana e o intervalo interquartil (IQR) para realizar essa tarefa.\n"
      ],
      "metadata": {
        "id": "u9wUA5RJ4Kzy"
      }
    },
    {
      "cell_type": "code",
      "source": [
        "scaler_columns = X_train.select_dtypes(include='number').columns\n",
        "scaler = RobustScaler()\n",
        "X_train_scaler = scaler.fit_transform(X_train[scaler_columns].copy())"
      ],
      "metadata": {
        "id": "A8z3xYvE58ZM"
      },
      "execution_count": null,
      "outputs": []
    },
    {
      "cell_type": "markdown",
      "source": [
        "Em seguida, concatenarei os dados categóricos previamente codificados (X_train_enc) com os dados escalonados (X_train_scaler) em um único DataFrame."
      ],
      "metadata": {
        "id": "pMzPFjfkDbWG"
      }
    },
    {
      "cell_type": "code",
      "source": [
        "X_train_transform = pd.DataFrame(X_train_scaler, columns=X_train[scaler_columns].columns)\n",
        "X_train_transform = pd.concat([X_train_enc, X_train_transform], axis=1).copy()\n",
        "X_train_transform.head()"
      ],
      "metadata": {
        "colab": {
          "base_uri": "https://localhost:8080/",
          "height": 226
        },
        "id": "9EMaqbjR-tTa",
        "outputId": "1af07294-831d-4939-e2d8-f8d5974d3aba"
      },
      "execution_count": null,
      "outputs": [
        {
          "output_type": "execute_result",
          "data": {
            "text/plain": [
              "   Sex_F  Sex_I  Sex_M    Length  Diameter  Height  Whole_weight  \\\n",
              "0      1      0      0  0.303030  0.307692     0.0      0.439576   \n",
              "1      1      0      0  0.545455  0.615385     0.6      0.652297   \n",
              "2      1      0      0 -1.060606 -1.153846    -1.1     -0.793640   \n",
              "3      0      1      0 -0.575758 -0.538462    -0.5     -0.513781   \n",
              "4      0      1      0 -0.272727 -0.384615    -0.3     -0.328622   \n",
              "\n",
              "   Shucked_weight  Viscera_weight  Shell_weight    Volume  \n",
              "0        0.576190        0.463722      0.358779  0.190735  \n",
              "1        0.558730        0.955836      0.613232  0.705370  \n",
              "2       -0.736508       -0.738170     -0.837150 -0.790440  \n",
              "3       -0.482540       -0.394322     -0.620865 -0.473364  \n",
              "4       -0.244444       -0.293375     -0.394402 -0.308140  "
            ],
            "text/html": [
              "\n",
              "  <div id=\"df-ac8d8b77-018d-49d1-9530-59651f1c9a51\" class=\"colab-df-container\">\n",
              "    <div>\n",
              "<style scoped>\n",
              "    .dataframe tbody tr th:only-of-type {\n",
              "        vertical-align: middle;\n",
              "    }\n",
              "\n",
              "    .dataframe tbody tr th {\n",
              "        vertical-align: top;\n",
              "    }\n",
              "\n",
              "    .dataframe thead th {\n",
              "        text-align: right;\n",
              "    }\n",
              "</style>\n",
              "<table border=\"1\" class=\"dataframe\">\n",
              "  <thead>\n",
              "    <tr style=\"text-align: right;\">\n",
              "      <th></th>\n",
              "      <th>Sex_F</th>\n",
              "      <th>Sex_I</th>\n",
              "      <th>Sex_M</th>\n",
              "      <th>Length</th>\n",
              "      <th>Diameter</th>\n",
              "      <th>Height</th>\n",
              "      <th>Whole_weight</th>\n",
              "      <th>Shucked_weight</th>\n",
              "      <th>Viscera_weight</th>\n",
              "      <th>Shell_weight</th>\n",
              "      <th>Volume</th>\n",
              "    </tr>\n",
              "  </thead>\n",
              "  <tbody>\n",
              "    <tr>\n",
              "      <th>0</th>\n",
              "      <td>1</td>\n",
              "      <td>0</td>\n",
              "      <td>0</td>\n",
              "      <td>0.303030</td>\n",
              "      <td>0.307692</td>\n",
              "      <td>0.0</td>\n",
              "      <td>0.439576</td>\n",
              "      <td>0.576190</td>\n",
              "      <td>0.463722</td>\n",
              "      <td>0.358779</td>\n",
              "      <td>0.190735</td>\n",
              "    </tr>\n",
              "    <tr>\n",
              "      <th>1</th>\n",
              "      <td>1</td>\n",
              "      <td>0</td>\n",
              "      <td>0</td>\n",
              "      <td>0.545455</td>\n",
              "      <td>0.615385</td>\n",
              "      <td>0.6</td>\n",
              "      <td>0.652297</td>\n",
              "      <td>0.558730</td>\n",
              "      <td>0.955836</td>\n",
              "      <td>0.613232</td>\n",
              "      <td>0.705370</td>\n",
              "    </tr>\n",
              "    <tr>\n",
              "      <th>2</th>\n",
              "      <td>1</td>\n",
              "      <td>0</td>\n",
              "      <td>0</td>\n",
              "      <td>-1.060606</td>\n",
              "      <td>-1.153846</td>\n",
              "      <td>-1.1</td>\n",
              "      <td>-0.793640</td>\n",
              "      <td>-0.736508</td>\n",
              "      <td>-0.738170</td>\n",
              "      <td>-0.837150</td>\n",
              "      <td>-0.790440</td>\n",
              "    </tr>\n",
              "    <tr>\n",
              "      <th>3</th>\n",
              "      <td>0</td>\n",
              "      <td>1</td>\n",
              "      <td>0</td>\n",
              "      <td>-0.575758</td>\n",
              "      <td>-0.538462</td>\n",
              "      <td>-0.5</td>\n",
              "      <td>-0.513781</td>\n",
              "      <td>-0.482540</td>\n",
              "      <td>-0.394322</td>\n",
              "      <td>-0.620865</td>\n",
              "      <td>-0.473364</td>\n",
              "    </tr>\n",
              "    <tr>\n",
              "      <th>4</th>\n",
              "      <td>0</td>\n",
              "      <td>1</td>\n",
              "      <td>0</td>\n",
              "      <td>-0.272727</td>\n",
              "      <td>-0.384615</td>\n",
              "      <td>-0.3</td>\n",
              "      <td>-0.328622</td>\n",
              "      <td>-0.244444</td>\n",
              "      <td>-0.293375</td>\n",
              "      <td>-0.394402</td>\n",
              "      <td>-0.308140</td>\n",
              "    </tr>\n",
              "  </tbody>\n",
              "</table>\n",
              "</div>\n",
              "    <div class=\"colab-df-buttons\">\n",
              "\n",
              "  <div class=\"colab-df-container\">\n",
              "    <button class=\"colab-df-convert\" onclick=\"convertToInteractive('df-ac8d8b77-018d-49d1-9530-59651f1c9a51')\"\n",
              "            title=\"Convert this dataframe to an interactive table.\"\n",
              "            style=\"display:none;\">\n",
              "\n",
              "  <svg xmlns=\"http://www.w3.org/2000/svg\" height=\"24px\" viewBox=\"0 -960 960 960\">\n",
              "    <path d=\"M120-120v-720h720v720H120Zm60-500h600v-160H180v160Zm220 220h160v-160H400v160Zm0 220h160v-160H400v160ZM180-400h160v-160H180v160Zm440 0h160v-160H620v160ZM180-180h160v-160H180v160Zm440 0h160v-160H620v160Z\"/>\n",
              "  </svg>\n",
              "    </button>\n",
              "\n",
              "  <style>\n",
              "    .colab-df-container {\n",
              "      display:flex;\n",
              "      gap: 12px;\n",
              "    }\n",
              "\n",
              "    .colab-df-convert {\n",
              "      background-color: #E8F0FE;\n",
              "      border: none;\n",
              "      border-radius: 50%;\n",
              "      cursor: pointer;\n",
              "      display: none;\n",
              "      fill: #1967D2;\n",
              "      height: 32px;\n",
              "      padding: 0 0 0 0;\n",
              "      width: 32px;\n",
              "    }\n",
              "\n",
              "    .colab-df-convert:hover {\n",
              "      background-color: #E2EBFA;\n",
              "      box-shadow: 0px 1px 2px rgba(60, 64, 67, 0.3), 0px 1px 3px 1px rgba(60, 64, 67, 0.15);\n",
              "      fill: #174EA6;\n",
              "    }\n",
              "\n",
              "    .colab-df-buttons div {\n",
              "      margin-bottom: 4px;\n",
              "    }\n",
              "\n",
              "    [theme=dark] .colab-df-convert {\n",
              "      background-color: #3B4455;\n",
              "      fill: #D2E3FC;\n",
              "    }\n",
              "\n",
              "    [theme=dark] .colab-df-convert:hover {\n",
              "      background-color: #434B5C;\n",
              "      box-shadow: 0px 1px 3px 1px rgba(0, 0, 0, 0.15);\n",
              "      filter: drop-shadow(0px 1px 2px rgba(0, 0, 0, 0.3));\n",
              "      fill: #FFFFFF;\n",
              "    }\n",
              "  </style>\n",
              "\n",
              "    <script>\n",
              "      const buttonEl =\n",
              "        document.querySelector('#df-ac8d8b77-018d-49d1-9530-59651f1c9a51 button.colab-df-convert');\n",
              "      buttonEl.style.display =\n",
              "        google.colab.kernel.accessAllowed ? 'block' : 'none';\n",
              "\n",
              "      async function convertToInteractive(key) {\n",
              "        const element = document.querySelector('#df-ac8d8b77-018d-49d1-9530-59651f1c9a51');\n",
              "        const dataTable =\n",
              "          await google.colab.kernel.invokeFunction('convertToInteractive',\n",
              "                                                    [key], {});\n",
              "        if (!dataTable) return;\n",
              "\n",
              "        const docLinkHtml = 'Like what you see? Visit the ' +\n",
              "          '<a target=\"_blank\" href=https://colab.research.google.com/notebooks/data_table.ipynb>data table notebook</a>'\n",
              "          + ' to learn more about interactive tables.';\n",
              "        element.innerHTML = '';\n",
              "        dataTable['output_type'] = 'display_data';\n",
              "        await google.colab.output.renderOutput(dataTable, element);\n",
              "        const docLink = document.createElement('div');\n",
              "        docLink.innerHTML = docLinkHtml;\n",
              "        element.appendChild(docLink);\n",
              "      }\n",
              "    </script>\n",
              "  </div>\n",
              "\n",
              "\n",
              "<div id=\"df-6a5e6266-7c6b-4f62-a5ec-ce7e2571ab8f\">\n",
              "  <button class=\"colab-df-quickchart\" onclick=\"quickchart('df-6a5e6266-7c6b-4f62-a5ec-ce7e2571ab8f')\"\n",
              "            title=\"Suggest charts\"\n",
              "            style=\"display:none;\">\n",
              "\n",
              "<svg xmlns=\"http://www.w3.org/2000/svg\" height=\"24px\"viewBox=\"0 0 24 24\"\n",
              "     width=\"24px\">\n",
              "    <g>\n",
              "        <path d=\"M19 3H5c-1.1 0-2 .9-2 2v14c0 1.1.9 2 2 2h14c1.1 0 2-.9 2-2V5c0-1.1-.9-2-2-2zM9 17H7v-7h2v7zm4 0h-2V7h2v10zm4 0h-2v-4h2v4z\"/>\n",
              "    </g>\n",
              "</svg>\n",
              "  </button>\n",
              "\n",
              "<style>\n",
              "  .colab-df-quickchart {\n",
              "      --bg-color: #E8F0FE;\n",
              "      --fill-color: #1967D2;\n",
              "      --hover-bg-color: #E2EBFA;\n",
              "      --hover-fill-color: #174EA6;\n",
              "      --disabled-fill-color: #AAA;\n",
              "      --disabled-bg-color: #DDD;\n",
              "  }\n",
              "\n",
              "  [theme=dark] .colab-df-quickchart {\n",
              "      --bg-color: #3B4455;\n",
              "      --fill-color: #D2E3FC;\n",
              "      --hover-bg-color: #434B5C;\n",
              "      --hover-fill-color: #FFFFFF;\n",
              "      --disabled-bg-color: #3B4455;\n",
              "      --disabled-fill-color: #666;\n",
              "  }\n",
              "\n",
              "  .colab-df-quickchart {\n",
              "    background-color: var(--bg-color);\n",
              "    border: none;\n",
              "    border-radius: 50%;\n",
              "    cursor: pointer;\n",
              "    display: none;\n",
              "    fill: var(--fill-color);\n",
              "    height: 32px;\n",
              "    padding: 0;\n",
              "    width: 32px;\n",
              "  }\n",
              "\n",
              "  .colab-df-quickchart:hover {\n",
              "    background-color: var(--hover-bg-color);\n",
              "    box-shadow: 0 1px 2px rgba(60, 64, 67, 0.3), 0 1px 3px 1px rgba(60, 64, 67, 0.15);\n",
              "    fill: var(--button-hover-fill-color);\n",
              "  }\n",
              "\n",
              "  .colab-df-quickchart-complete:disabled,\n",
              "  .colab-df-quickchart-complete:disabled:hover {\n",
              "    background-color: var(--disabled-bg-color);\n",
              "    fill: var(--disabled-fill-color);\n",
              "    box-shadow: none;\n",
              "  }\n",
              "\n",
              "  .colab-df-spinner {\n",
              "    border: 2px solid var(--fill-color);\n",
              "    border-color: transparent;\n",
              "    border-bottom-color: var(--fill-color);\n",
              "    animation:\n",
              "      spin 1s steps(1) infinite;\n",
              "  }\n",
              "\n",
              "  @keyframes spin {\n",
              "    0% {\n",
              "      border-color: transparent;\n",
              "      border-bottom-color: var(--fill-color);\n",
              "      border-left-color: var(--fill-color);\n",
              "    }\n",
              "    20% {\n",
              "      border-color: transparent;\n",
              "      border-left-color: var(--fill-color);\n",
              "      border-top-color: var(--fill-color);\n",
              "    }\n",
              "    30% {\n",
              "      border-color: transparent;\n",
              "      border-left-color: var(--fill-color);\n",
              "      border-top-color: var(--fill-color);\n",
              "      border-right-color: var(--fill-color);\n",
              "    }\n",
              "    40% {\n",
              "      border-color: transparent;\n",
              "      border-right-color: var(--fill-color);\n",
              "      border-top-color: var(--fill-color);\n",
              "    }\n",
              "    60% {\n",
              "      border-color: transparent;\n",
              "      border-right-color: var(--fill-color);\n",
              "    }\n",
              "    80% {\n",
              "      border-color: transparent;\n",
              "      border-right-color: var(--fill-color);\n",
              "      border-bottom-color: var(--fill-color);\n",
              "    }\n",
              "    90% {\n",
              "      border-color: transparent;\n",
              "      border-bottom-color: var(--fill-color);\n",
              "    }\n",
              "  }\n",
              "</style>\n",
              "\n",
              "  <script>\n",
              "    async function quickchart(key) {\n",
              "      const quickchartButtonEl =\n",
              "        document.querySelector('#' + key + ' button');\n",
              "      quickchartButtonEl.disabled = true;  // To prevent multiple clicks.\n",
              "      quickchartButtonEl.classList.add('colab-df-spinner');\n",
              "      try {\n",
              "        const charts = await google.colab.kernel.invokeFunction(\n",
              "            'suggestCharts', [key], {});\n",
              "      } catch (error) {\n",
              "        console.error('Error during call to suggestCharts:', error);\n",
              "      }\n",
              "      quickchartButtonEl.classList.remove('colab-df-spinner');\n",
              "      quickchartButtonEl.classList.add('colab-df-quickchart-complete');\n",
              "    }\n",
              "    (() => {\n",
              "      let quickchartButtonEl =\n",
              "        document.querySelector('#df-6a5e6266-7c6b-4f62-a5ec-ce7e2571ab8f button');\n",
              "      quickchartButtonEl.style.display =\n",
              "        google.colab.kernel.accessAllowed ? 'block' : 'none';\n",
              "    })();\n",
              "  </script>\n",
              "</div>\n",
              "\n",
              "    </div>\n",
              "  </div>\n"
            ],
            "application/vnd.google.colaboratory.intrinsic+json": {
              "type": "dataframe",
              "variable_name": "X_train_transform",
              "summary": "{\n  \"name\": \"X_train_transform\",\n  \"rows\": 3757,\n  \"fields\": [\n    {\n      \"column\": \"Sex_F\",\n      \"properties\": {\n        \"dtype\": \"number\",\n        \"std\": 0,\n        \"min\": 0,\n        \"max\": 1,\n        \"num_unique_values\": 2,\n        \"samples\": [\n          0,\n          1\n        ],\n        \"semantic_type\": \"\",\n        \"description\": \"\"\n      }\n    },\n    {\n      \"column\": \"Sex_I\",\n      \"properties\": {\n        \"dtype\": \"number\",\n        \"std\": 0,\n        \"min\": 0,\n        \"max\": 1,\n        \"num_unique_values\": 2,\n        \"samples\": [\n          1,\n          0\n        ],\n        \"semantic_type\": \"\",\n        \"description\": \"\"\n      }\n    },\n    {\n      \"column\": \"Sex_M\",\n      \"properties\": {\n        \"dtype\": \"number\",\n        \"std\": 0,\n        \"min\": 0,\n        \"max\": 1,\n        \"num_unique_values\": 2,\n        \"samples\": [\n          1,\n          0\n        ],\n        \"semantic_type\": \"\",\n        \"description\": \"\"\n      }\n    },\n    {\n      \"column\": \"Length\",\n      \"properties\": {\n        \"dtype\": \"number\",\n        \"std\": 0.7265747814147555,\n        \"min\": -2.848484848484849,\n        \"max\": 1.5454545454545456,\n        \"num_unique_values\": 132,\n        \"samples\": [\n          -0.757575757575758,\n          0.8181818181818183\n        ],\n        \"semantic_type\": \"\",\n        \"description\": \"\"\n      }\n    },\n    {\n      \"column\": \"Diameter\",\n      \"properties\": {\n        \"dtype\": \"number\",\n        \"std\": 0.7620387434370145,\n        \"min\": -2.846153846153846,\n        \"max\": 1.576923076923077,\n        \"num_unique_values\": 110,\n        \"samples\": [\n          1.2307692307692306,\n          0.4615384615384615\n        ],\n        \"semantic_type\": \"\",\n        \"description\": \"\"\n      }\n    },\n    {\n      \"column\": \"Height\",\n      \"properties\": {\n        \"dtype\": \"number\",\n        \"std\": 0.840645063988506,\n        \"min\": -2.6,\n        \"max\": 19.799999999999997,\n        \"num_unique_values\": 50,\n        \"samples\": [\n          -0.7000000000000003,\n          -1.9000000000000001\n        ],\n        \"semantic_type\": \"\",\n        \"description\": \"\"\n      }\n    },\n    {\n      \"column\": \"Whole_weight\",\n      \"properties\": {\n        \"dtype\": \"number\",\n        \"std\": 0.6919742185832535,\n        \"min\": -1.1307420494699647,\n        \"max\": 2.8600706713780917,\n        \"num_unique_values\": 2291,\n        \"samples\": [\n          0.9745583038869258,\n          0.08904593639575964\n        ],\n        \"semantic_type\": \"\",\n        \"description\": \"\"\n      }\n    },\n    {\n      \"column\": \"Shucked_weight\",\n      \"properties\": {\n        \"dtype\": \"number\",\n        \"std\": 0.7017979239396317,\n        \"min\": -1.0634920634920637,\n        \"max\": 3.6571428571428575,\n        \"num_unique_values\": 1458,\n        \"samples\": [\n          -0.6095238095238097,\n          -0.796825396825397\n        ],\n        \"semantic_type\": \"\",\n        \"description\": \"\"\n      }\n    },\n    {\n      \"column\": \"Viscera_weight\",\n      \"properties\": {\n        \"dtype\": \"number\",\n        \"std\": 0.692133442368135,\n        \"min\": -1.0725552050473186,\n        \"max\": 3.719242902208202,\n        \"num_unique_values\": 867,\n        \"samples\": [\n          0.3375394321766561,\n          0.476340694006309\n        ],\n        \"semantic_type\": \"\",\n        \"description\": \"\"\n      }\n    },\n    {\n      \"column\": \"Shell_weight\",\n      \"properties\": {\n        \"dtype\": \"number\",\n        \"std\": 0.7088994907948801,\n        \"min\": -1.1857506361323153,\n        \"max\": 3.9211195928753177,\n        \"num_unique_values\": 884,\n        \"samples\": [\n          0.6615776081424937,\n          0.27480916030534347\n        ],\n        \"semantic_type\": \"\",\n        \"description\": \"\"\n      }\n    },\n    {\n      \"column\": \"Volume\",\n      \"properties\": {\n        \"dtype\": \"number\",\n        \"std\": 0.687998472305262,\n        \"min\": -1.071152529106741,\n        \"max\": 5.617564328343605,\n        \"num_unique_values\": 2987,\n        \"samples\": [\n          2.0328734957440564,\n          -0.49601311026318345\n        ],\n        \"semantic_type\": \"\",\n        \"description\": \"\"\n      }\n    }\n  ]\n}"
            }
          },
          "metadata": {},
          "execution_count": 21
        }
      ]
    },
    {
      "cell_type": "markdown",
      "metadata": {
        "id": "4CE9VaHHEOYk"
      },
      "source": [
        "Com os dados devidamente transformados e sem a necessidade de ajustes adicionais, é possível iniciar a modelagem de Machine Learning."
      ]
    },
    {
      "cell_type": "markdown",
      "metadata": {
        "id": "HsI9ZEenhXGq"
      },
      "source": [
        "##  Modelagem de Machine Learning\n",
        "\n",
        "Depois do pré-processamento de dados, o próximo passo é a criação do modelo. Isso envolve a escolha dos algoritmos de Machine learning mais adequado para o problema e a definição dos parâmetros dos modelos."
      ]
    },
    {
      "cell_type": "code",
      "source": [
        "!pip install scikit-optimize\n",
        "from sklearn.pipeline import Pipeline\n",
        "from sklearn.compose import ColumnTransformer\n",
        "from sklearn.dummy import DummyRegressor\n",
        "from sklearn.model_selection import cross_val_score\n",
        "from sklearn.metrics import mean_squared_error\n",
        "from skopt import gp_minimize\n",
        "from skopt.space import Real, Integer, Categorical\n",
        "from skopt.utils import use_named_args\n",
        "from sklearn.neighbors import KNeighborsRegressor\n",
        "from sklearn.linear_model import SGDRegressor\n",
        "from sklearn.ensemble import VotingRegressor\n",
        "from xgboost import XGBRegressor\n",
        "from lightgbm import LGBMRegressor"
      ],
      "metadata": {
        "id": "IwuhY_QZFc21"
      },
      "execution_count": null,
      "outputs": []
    },
    {
      "cell_type": "markdown",
      "metadata": {
        "id": "tdoRgZ588P87"
      },
      "source": [
        "### **Modelo Baseline de desempenho dos Modelos**\n",
        "\n",
        "\n",
        "O modelo baseline é um modelo simples que nos ajuda a entender o mínimo de desempenho que podemos esperar. Ele serve como uma linha de base para medir o desempenho de modelos mais complexos que desenvolveremos posteriormente.\n",
        "\n",
        "Irei usar a cross-validation para estimar o erro da baseline dos modelos iniciais.  A métrica utilizada para avaliação será `RMSE`."
      ]
    },
    {
      "cell_type": "markdown",
      "source": [
        "A seguir,  criei um pré-processador usando ColumnTransformer para aplicar diferentes transformações às colunas. A coluna `Sex` será codificada com `OneHotEncoder`, enquanto as colunas numéricas serão escaladas com `RobustScaler`."
      ],
      "metadata": {
        "id": "fiC398cDH-Rp"
      }
    },
    {
      "cell_type": "code",
      "source": [
        "preprocessor = ColumnTransformer(\n",
        "        transformers=[\n",
        "            ('cat', OneHotEncoder(),['Sex']),\n",
        "            ('num', RobustScaler(),scaler_columns)])"
      ],
      "metadata": {
        "id": "eAzd3Ty4N-r-"
      },
      "execution_count": null,
      "outputs": []
    },
    {
      "cell_type": "markdown",
      "source": [
        "O modelo `DummyRegressor` esta sendo utilizado como baseline de desempenho para os demais modelos que iremos testar."
      ],
      "metadata": {
        "id": "w05FjXflIDdZ"
      }
    },
    {
      "cell_type": "code",
      "source": [
        "pipe = Pipeline(steps=[\n",
        "        ('preprocessor', preprocessor),\n",
        "        ('regressor', DummyRegressor())])\n",
        "\n",
        "scores = -cross_val_score(pipe, X_train, y_train, cv=10, scoring='neg_root_mean_squared_error')\n",
        "print(f'RMSE: {np.mean(scores)}')\n",
        "print(f'Deviation: {np.std(scores)}')"
      ],
      "metadata": {
        "colab": {
          "base_uri": "https://localhost:8080/"
        },
        "id": "DuS940-rP158",
        "outputId": "4fa5bc0a-9b03-4344-b68d-35775958a2a7"
      },
      "execution_count": null,
      "outputs": [
        {
          "output_type": "stream",
          "name": "stdout",
          "text": [
            "RMSE: 3.224306960166371\n",
            "Deviation: 0.15815684221030699\n"
          ]
        }
      ]
    },
    {
      "cell_type": "markdown",
      "metadata": {
        "id": "jumO3DpI8D7Y"
      },
      "source": [
        "### **Teste de Performance dos Modelos**\n",
        "\n",
        "Para avaliar a performance dos modelos de regressão, aplicarei a validação cruzada em diferentes algoritmos de machine learning. O objetivo é identificar o modelo com o menor erro quadrático médio (RMSE). Os modelos selecionados para essa análise são:\n",
        "\n",
        "* Stochastic Gradient Descent\n",
        "* XGboost\n",
        "* LightGBM\n",
        "* KNN"
      ]
    },
    {
      "cell_type": "code",
      "source": [
        "knn = KNeighborsRegressor()\n",
        "xgb = XGBRegressor()\n",
        "sgd = SGDRegressor()\n",
        "lgbm = LGBMRegressor()"
      ],
      "metadata": {
        "id": "rBX9VOD7T9LR"
      },
      "execution_count": null,
      "outputs": []
    },
    {
      "cell_type": "markdown",
      "source": [
        "A seguir, com o objetivo de avaliar o desempenho dos modelos escolhidos, estou utilizando a validação cruzada para cada modelo, armazenando os nomes e as pontuações de RMSE em listas. Em seguida, essas listas são convertidas em um DataFrame do pandas que organiza as pontuações dos modelos em uma tabela para uma análise mais fácil e comparativa."
      ],
      "metadata": {
        "id": "GUa9Yk6XgEGF"
      }
    },
    {
      "cell_type": "code",
      "source": [
        "models = []\n",
        "scores = []\n",
        "for model in (sgd, xgb, knn, lgbm):\n",
        "    pipeline = Pipeline(steps=[('preprocessor', preprocessor),\n",
        "                                         ('regressor', model)])\n",
        "    model_name = model.__class__.__name__\n",
        "    score = -cross_val_score(pipeline, X_train, y_train, cv=10, scoring='neg_root_mean_squared_error')\n",
        "    models.append(model_name)\n",
        "    scores.append(score)\n",
        "\n",
        "df_regression_models = pd.DataFrame(scores, index=models).T"
      ],
      "metadata": {
        "id": "MjHzQWjeNUKf"
      },
      "execution_count": null,
      "outputs": []
    },
    {
      "cell_type": "markdown",
      "metadata": {
        "id": "nlHjpjzGpr2M"
      },
      "source": [
        "* Antes de iniciar a análise dos resultados dos modelos, vamos examinar nosso dataset verificando as cinco primeiras entradas."
      ]
    },
    {
      "cell_type": "code",
      "source": [
        "df_regression_models.head()"
      ],
      "metadata": {
        "colab": {
          "base_uri": "https://localhost:8080/",
          "height": 206
        },
        "id": "ByHDRRP_dyOm",
        "outputId": "e7c337d2-b6ec-4d6a-9327-3585bb3e82da"
      },
      "execution_count": null,
      "outputs": [
        {
          "output_type": "execute_result",
          "data": {
            "text/plain": [
              "   SGDRegressor  XGBRegressor  KNeighborsRegressor  LGBMRegressor\n",
              "0      2.209522      2.250892             2.165469       2.212675\n",
              "1      2.333002      2.266376             2.233759       2.197963\n",
              "2      2.073986      2.139729             2.129854       2.018897\n",
              "3      2.168498      2.253390             2.321798       2.042057\n",
              "4      2.052125      2.227770             2.283218       2.064374"
            ],
            "text/html": [
              "\n",
              "  <div id=\"df-337cbb68-a14d-4ced-97b5-61df12fc0113\" class=\"colab-df-container\">\n",
              "    <div>\n",
              "<style scoped>\n",
              "    .dataframe tbody tr th:only-of-type {\n",
              "        vertical-align: middle;\n",
              "    }\n",
              "\n",
              "    .dataframe tbody tr th {\n",
              "        vertical-align: top;\n",
              "    }\n",
              "\n",
              "    .dataframe thead th {\n",
              "        text-align: right;\n",
              "    }\n",
              "</style>\n",
              "<table border=\"1\" class=\"dataframe\">\n",
              "  <thead>\n",
              "    <tr style=\"text-align: right;\">\n",
              "      <th></th>\n",
              "      <th>SGDRegressor</th>\n",
              "      <th>XGBRegressor</th>\n",
              "      <th>KNeighborsRegressor</th>\n",
              "      <th>LGBMRegressor</th>\n",
              "    </tr>\n",
              "  </thead>\n",
              "  <tbody>\n",
              "    <tr>\n",
              "      <th>0</th>\n",
              "      <td>2.209522</td>\n",
              "      <td>2.250892</td>\n",
              "      <td>2.165469</td>\n",
              "      <td>2.212675</td>\n",
              "    </tr>\n",
              "    <tr>\n",
              "      <th>1</th>\n",
              "      <td>2.333002</td>\n",
              "      <td>2.266376</td>\n",
              "      <td>2.233759</td>\n",
              "      <td>2.197963</td>\n",
              "    </tr>\n",
              "    <tr>\n",
              "      <th>2</th>\n",
              "      <td>2.073986</td>\n",
              "      <td>2.139729</td>\n",
              "      <td>2.129854</td>\n",
              "      <td>2.018897</td>\n",
              "    </tr>\n",
              "    <tr>\n",
              "      <th>3</th>\n",
              "      <td>2.168498</td>\n",
              "      <td>2.253390</td>\n",
              "      <td>2.321798</td>\n",
              "      <td>2.042057</td>\n",
              "    </tr>\n",
              "    <tr>\n",
              "      <th>4</th>\n",
              "      <td>2.052125</td>\n",
              "      <td>2.227770</td>\n",
              "      <td>2.283218</td>\n",
              "      <td>2.064374</td>\n",
              "    </tr>\n",
              "  </tbody>\n",
              "</table>\n",
              "</div>\n",
              "    <div class=\"colab-df-buttons\">\n",
              "\n",
              "  <div class=\"colab-df-container\">\n",
              "    <button class=\"colab-df-convert\" onclick=\"convertToInteractive('df-337cbb68-a14d-4ced-97b5-61df12fc0113')\"\n",
              "            title=\"Convert this dataframe to an interactive table.\"\n",
              "            style=\"display:none;\">\n",
              "\n",
              "  <svg xmlns=\"http://www.w3.org/2000/svg\" height=\"24px\" viewBox=\"0 -960 960 960\">\n",
              "    <path d=\"M120-120v-720h720v720H120Zm60-500h600v-160H180v160Zm220 220h160v-160H400v160Zm0 220h160v-160H400v160ZM180-400h160v-160H180v160Zm440 0h160v-160H620v160ZM180-180h160v-160H180v160Zm440 0h160v-160H620v160Z\"/>\n",
              "  </svg>\n",
              "    </button>\n",
              "\n",
              "  <style>\n",
              "    .colab-df-container {\n",
              "      display:flex;\n",
              "      gap: 12px;\n",
              "    }\n",
              "\n",
              "    .colab-df-convert {\n",
              "      background-color: #E8F0FE;\n",
              "      border: none;\n",
              "      border-radius: 50%;\n",
              "      cursor: pointer;\n",
              "      display: none;\n",
              "      fill: #1967D2;\n",
              "      height: 32px;\n",
              "      padding: 0 0 0 0;\n",
              "      width: 32px;\n",
              "    }\n",
              "\n",
              "    .colab-df-convert:hover {\n",
              "      background-color: #E2EBFA;\n",
              "      box-shadow: 0px 1px 2px rgba(60, 64, 67, 0.3), 0px 1px 3px 1px rgba(60, 64, 67, 0.15);\n",
              "      fill: #174EA6;\n",
              "    }\n",
              "\n",
              "    .colab-df-buttons div {\n",
              "      margin-bottom: 4px;\n",
              "    }\n",
              "\n",
              "    [theme=dark] .colab-df-convert {\n",
              "      background-color: #3B4455;\n",
              "      fill: #D2E3FC;\n",
              "    }\n",
              "\n",
              "    [theme=dark] .colab-df-convert:hover {\n",
              "      background-color: #434B5C;\n",
              "      box-shadow: 0px 1px 3px 1px rgba(0, 0, 0, 0.15);\n",
              "      filter: drop-shadow(0px 1px 2px rgba(0, 0, 0, 0.3));\n",
              "      fill: #FFFFFF;\n",
              "    }\n",
              "  </style>\n",
              "\n",
              "    <script>\n",
              "      const buttonEl =\n",
              "        document.querySelector('#df-337cbb68-a14d-4ced-97b5-61df12fc0113 button.colab-df-convert');\n",
              "      buttonEl.style.display =\n",
              "        google.colab.kernel.accessAllowed ? 'block' : 'none';\n",
              "\n",
              "      async function convertToInteractive(key) {\n",
              "        const element = document.querySelector('#df-337cbb68-a14d-4ced-97b5-61df12fc0113');\n",
              "        const dataTable =\n",
              "          await google.colab.kernel.invokeFunction('convertToInteractive',\n",
              "                                                    [key], {});\n",
              "        if (!dataTable) return;\n",
              "\n",
              "        const docLinkHtml = 'Like what you see? Visit the ' +\n",
              "          '<a target=\"_blank\" href=https://colab.research.google.com/notebooks/data_table.ipynb>data table notebook</a>'\n",
              "          + ' to learn more about interactive tables.';\n",
              "        element.innerHTML = '';\n",
              "        dataTable['output_type'] = 'display_data';\n",
              "        await google.colab.output.renderOutput(dataTable, element);\n",
              "        const docLink = document.createElement('div');\n",
              "        docLink.innerHTML = docLinkHtml;\n",
              "        element.appendChild(docLink);\n",
              "      }\n",
              "    </script>\n",
              "  </div>\n",
              "\n",
              "\n",
              "<div id=\"df-ff3b7051-fa23-45a4-a2fc-64384f999089\">\n",
              "  <button class=\"colab-df-quickchart\" onclick=\"quickchart('df-ff3b7051-fa23-45a4-a2fc-64384f999089')\"\n",
              "            title=\"Suggest charts\"\n",
              "            style=\"display:none;\">\n",
              "\n",
              "<svg xmlns=\"http://www.w3.org/2000/svg\" height=\"24px\"viewBox=\"0 0 24 24\"\n",
              "     width=\"24px\">\n",
              "    <g>\n",
              "        <path d=\"M19 3H5c-1.1 0-2 .9-2 2v14c0 1.1.9 2 2 2h14c1.1 0 2-.9 2-2V5c0-1.1-.9-2-2-2zM9 17H7v-7h2v7zm4 0h-2V7h2v10zm4 0h-2v-4h2v4z\"/>\n",
              "    </g>\n",
              "</svg>\n",
              "  </button>\n",
              "\n",
              "<style>\n",
              "  .colab-df-quickchart {\n",
              "      --bg-color: #E8F0FE;\n",
              "      --fill-color: #1967D2;\n",
              "      --hover-bg-color: #E2EBFA;\n",
              "      --hover-fill-color: #174EA6;\n",
              "      --disabled-fill-color: #AAA;\n",
              "      --disabled-bg-color: #DDD;\n",
              "  }\n",
              "\n",
              "  [theme=dark] .colab-df-quickchart {\n",
              "      --bg-color: #3B4455;\n",
              "      --fill-color: #D2E3FC;\n",
              "      --hover-bg-color: #434B5C;\n",
              "      --hover-fill-color: #FFFFFF;\n",
              "      --disabled-bg-color: #3B4455;\n",
              "      --disabled-fill-color: #666;\n",
              "  }\n",
              "\n",
              "  .colab-df-quickchart {\n",
              "    background-color: var(--bg-color);\n",
              "    border: none;\n",
              "    border-radius: 50%;\n",
              "    cursor: pointer;\n",
              "    display: none;\n",
              "    fill: var(--fill-color);\n",
              "    height: 32px;\n",
              "    padding: 0;\n",
              "    width: 32px;\n",
              "  }\n",
              "\n",
              "  .colab-df-quickchart:hover {\n",
              "    background-color: var(--hover-bg-color);\n",
              "    box-shadow: 0 1px 2px rgba(60, 64, 67, 0.3), 0 1px 3px 1px rgba(60, 64, 67, 0.15);\n",
              "    fill: var(--button-hover-fill-color);\n",
              "  }\n",
              "\n",
              "  .colab-df-quickchart-complete:disabled,\n",
              "  .colab-df-quickchart-complete:disabled:hover {\n",
              "    background-color: var(--disabled-bg-color);\n",
              "    fill: var(--disabled-fill-color);\n",
              "    box-shadow: none;\n",
              "  }\n",
              "\n",
              "  .colab-df-spinner {\n",
              "    border: 2px solid var(--fill-color);\n",
              "    border-color: transparent;\n",
              "    border-bottom-color: var(--fill-color);\n",
              "    animation:\n",
              "      spin 1s steps(1) infinite;\n",
              "  }\n",
              "\n",
              "  @keyframes spin {\n",
              "    0% {\n",
              "      border-color: transparent;\n",
              "      border-bottom-color: var(--fill-color);\n",
              "      border-left-color: var(--fill-color);\n",
              "    }\n",
              "    20% {\n",
              "      border-color: transparent;\n",
              "      border-left-color: var(--fill-color);\n",
              "      border-top-color: var(--fill-color);\n",
              "    }\n",
              "    30% {\n",
              "      border-color: transparent;\n",
              "      border-left-color: var(--fill-color);\n",
              "      border-top-color: var(--fill-color);\n",
              "      border-right-color: var(--fill-color);\n",
              "    }\n",
              "    40% {\n",
              "      border-color: transparent;\n",
              "      border-right-color: var(--fill-color);\n",
              "      border-top-color: var(--fill-color);\n",
              "    }\n",
              "    60% {\n",
              "      border-color: transparent;\n",
              "      border-right-color: var(--fill-color);\n",
              "    }\n",
              "    80% {\n",
              "      border-color: transparent;\n",
              "      border-right-color: var(--fill-color);\n",
              "      border-bottom-color: var(--fill-color);\n",
              "    }\n",
              "    90% {\n",
              "      border-color: transparent;\n",
              "      border-bottom-color: var(--fill-color);\n",
              "    }\n",
              "  }\n",
              "</style>\n",
              "\n",
              "  <script>\n",
              "    async function quickchart(key) {\n",
              "      const quickchartButtonEl =\n",
              "        document.querySelector('#' + key + ' button');\n",
              "      quickchartButtonEl.disabled = true;  // To prevent multiple clicks.\n",
              "      quickchartButtonEl.classList.add('colab-df-spinner');\n",
              "      try {\n",
              "        const charts = await google.colab.kernel.invokeFunction(\n",
              "            'suggestCharts', [key], {});\n",
              "      } catch (error) {\n",
              "        console.error('Error during call to suggestCharts:', error);\n",
              "      }\n",
              "      quickchartButtonEl.classList.remove('colab-df-spinner');\n",
              "      quickchartButtonEl.classList.add('colab-df-quickchart-complete');\n",
              "    }\n",
              "    (() => {\n",
              "      let quickchartButtonEl =\n",
              "        document.querySelector('#df-ff3b7051-fa23-45a4-a2fc-64384f999089 button');\n",
              "      quickchartButtonEl.style.display =\n",
              "        google.colab.kernel.accessAllowed ? 'block' : 'none';\n",
              "    })();\n",
              "  </script>\n",
              "</div>\n",
              "\n",
              "    </div>\n",
              "  </div>\n"
            ],
            "application/vnd.google.colaboratory.intrinsic+json": {
              "type": "dataframe",
              "variable_name": "df_regression_models",
              "summary": "{\n  \"name\": \"df_regression_models\",\n  \"rows\": 10,\n  \"fields\": [\n    {\n      \"column\": \"SGDRegressor\",\n      \"properties\": {\n        \"dtype\": \"number\",\n        \"std\": 0.13978611819067616,\n        \"min\": 2.052124581863685,\n        \"max\": 2.4241277463381103,\n        \"num_unique_values\": 10,\n        \"samples\": [\n          2.4241277463381103,\n          2.3330018588794164,\n          2.4236152976329657\n        ],\n        \"semantic_type\": \"\",\n        \"description\": \"\"\n      }\n    },\n    {\n      \"column\": \"XGBRegressor\",\n      \"properties\": {\n        \"dtype\": \"number\",\n        \"std\": 0.13061002370356867,\n        \"min\": 2.1397294998168945,\n        \"max\": 2.632063388824463,\n        \"num_unique_values\": 10,\n        \"samples\": [\n          2.632063388824463,\n          2.26637601852417,\n          2.3445730209350586\n        ],\n        \"semantic_type\": \"\",\n        \"description\": \"\"\n      }\n    },\n    {\n      \"column\": \"KNeighborsRegressor\",\n      \"properties\": {\n        \"dtype\": \"number\",\n        \"std\": 0.14082871447362455,\n        \"min\": 2.129853655945563,\n        \"max\": 2.5910409748464676,\n        \"num_unique_values\": 10,\n        \"samples\": [\n          2.5910409748464676,\n          2.2337593538839022,\n          2.1890199886337944\n        ],\n        \"semantic_type\": \"\",\n        \"description\": \"\"\n      }\n    },\n    {\n      \"column\": \"LGBMRegressor\",\n      \"properties\": {\n        \"dtype\": \"number\",\n        \"std\": 0.14547350669205703,\n        \"min\": 2.0188969293940144,\n        \"max\": 2.533039098172479,\n        \"num_unique_values\": 10,\n        \"samples\": [\n          2.533039098172479,\n          2.1979628847617807,\n          2.138744338202287\n        ],\n        \"semantic_type\": \"\",\n        \"description\": \"\"\n      }\n    }\n  ]\n}"
            }
          },
          "metadata": {},
          "execution_count": 27
        }
      ]
    },
    {
      "cell_type": "markdown",
      "source": [
        "* Com o método `describe`, geraremos estatísticas para os nossos modelos, a fim de compreender seus desempenhos."
      ],
      "metadata": {
        "id": "M4hnwp9wfVyM"
      }
    },
    {
      "cell_type": "code",
      "source": [
        "df_regression_models.describe()"
      ],
      "metadata": {
        "colab": {
          "base_uri": "https://localhost:8080/",
          "height": 300
        },
        "id": "1ofE4J8Ed4K-",
        "outputId": "365a4809-f06d-40bc-b01a-3ae12c8bb27c"
      },
      "execution_count": null,
      "outputs": [
        {
          "output_type": "execute_result",
          "data": {
            "text/plain": [
              "       SGDRegressor  XGBRegressor  KNeighborsRegressor  LGBMRegressor\n",
              "count     10.000000     10.000000            10.000000      10.000000\n",
              "mean       2.221686      2.307389             2.288734       2.176426\n",
              "std        0.139786      0.130610             0.140829       0.145474\n",
              "min        2.052125      2.139729             2.129854       2.018897\n",
              "25%        2.101251      2.251517             2.192716       2.082651\n",
              "50%        2.189010      2.269479             2.258489       2.163174\n",
              "75%        2.322397      2.339530             2.324754       2.208997\n",
              "max        2.424128      2.632063             2.591041       2.533039"
            ],
            "text/html": [
              "\n",
              "  <div id=\"df-9b3440b4-1a5e-4efb-98d1-b10c6300ab2c\" class=\"colab-df-container\">\n",
              "    <div>\n",
              "<style scoped>\n",
              "    .dataframe tbody tr th:only-of-type {\n",
              "        vertical-align: middle;\n",
              "    }\n",
              "\n",
              "    .dataframe tbody tr th {\n",
              "        vertical-align: top;\n",
              "    }\n",
              "\n",
              "    .dataframe thead th {\n",
              "        text-align: right;\n",
              "    }\n",
              "</style>\n",
              "<table border=\"1\" class=\"dataframe\">\n",
              "  <thead>\n",
              "    <tr style=\"text-align: right;\">\n",
              "      <th></th>\n",
              "      <th>SGDRegressor</th>\n",
              "      <th>XGBRegressor</th>\n",
              "      <th>KNeighborsRegressor</th>\n",
              "      <th>LGBMRegressor</th>\n",
              "    </tr>\n",
              "  </thead>\n",
              "  <tbody>\n",
              "    <tr>\n",
              "      <th>count</th>\n",
              "      <td>10.000000</td>\n",
              "      <td>10.000000</td>\n",
              "      <td>10.000000</td>\n",
              "      <td>10.000000</td>\n",
              "    </tr>\n",
              "    <tr>\n",
              "      <th>mean</th>\n",
              "      <td>2.221686</td>\n",
              "      <td>2.307389</td>\n",
              "      <td>2.288734</td>\n",
              "      <td>2.176426</td>\n",
              "    </tr>\n",
              "    <tr>\n",
              "      <th>std</th>\n",
              "      <td>0.139786</td>\n",
              "      <td>0.130610</td>\n",
              "      <td>0.140829</td>\n",
              "      <td>0.145474</td>\n",
              "    </tr>\n",
              "    <tr>\n",
              "      <th>min</th>\n",
              "      <td>2.052125</td>\n",
              "      <td>2.139729</td>\n",
              "      <td>2.129854</td>\n",
              "      <td>2.018897</td>\n",
              "    </tr>\n",
              "    <tr>\n",
              "      <th>25%</th>\n",
              "      <td>2.101251</td>\n",
              "      <td>2.251517</td>\n",
              "      <td>2.192716</td>\n",
              "      <td>2.082651</td>\n",
              "    </tr>\n",
              "    <tr>\n",
              "      <th>50%</th>\n",
              "      <td>2.189010</td>\n",
              "      <td>2.269479</td>\n",
              "      <td>2.258489</td>\n",
              "      <td>2.163174</td>\n",
              "    </tr>\n",
              "    <tr>\n",
              "      <th>75%</th>\n",
              "      <td>2.322397</td>\n",
              "      <td>2.339530</td>\n",
              "      <td>2.324754</td>\n",
              "      <td>2.208997</td>\n",
              "    </tr>\n",
              "    <tr>\n",
              "      <th>max</th>\n",
              "      <td>2.424128</td>\n",
              "      <td>2.632063</td>\n",
              "      <td>2.591041</td>\n",
              "      <td>2.533039</td>\n",
              "    </tr>\n",
              "  </tbody>\n",
              "</table>\n",
              "</div>\n",
              "    <div class=\"colab-df-buttons\">\n",
              "\n",
              "  <div class=\"colab-df-container\">\n",
              "    <button class=\"colab-df-convert\" onclick=\"convertToInteractive('df-9b3440b4-1a5e-4efb-98d1-b10c6300ab2c')\"\n",
              "            title=\"Convert this dataframe to an interactive table.\"\n",
              "            style=\"display:none;\">\n",
              "\n",
              "  <svg xmlns=\"http://www.w3.org/2000/svg\" height=\"24px\" viewBox=\"0 -960 960 960\">\n",
              "    <path d=\"M120-120v-720h720v720H120Zm60-500h600v-160H180v160Zm220 220h160v-160H400v160Zm0 220h160v-160H400v160ZM180-400h160v-160H180v160Zm440 0h160v-160H620v160ZM180-180h160v-160H180v160Zm440 0h160v-160H620v160Z\"/>\n",
              "  </svg>\n",
              "    </button>\n",
              "\n",
              "  <style>\n",
              "    .colab-df-container {\n",
              "      display:flex;\n",
              "      gap: 12px;\n",
              "    }\n",
              "\n",
              "    .colab-df-convert {\n",
              "      background-color: #E8F0FE;\n",
              "      border: none;\n",
              "      border-radius: 50%;\n",
              "      cursor: pointer;\n",
              "      display: none;\n",
              "      fill: #1967D2;\n",
              "      height: 32px;\n",
              "      padding: 0 0 0 0;\n",
              "      width: 32px;\n",
              "    }\n",
              "\n",
              "    .colab-df-convert:hover {\n",
              "      background-color: #E2EBFA;\n",
              "      box-shadow: 0px 1px 2px rgba(60, 64, 67, 0.3), 0px 1px 3px 1px rgba(60, 64, 67, 0.15);\n",
              "      fill: #174EA6;\n",
              "    }\n",
              "\n",
              "    .colab-df-buttons div {\n",
              "      margin-bottom: 4px;\n",
              "    }\n",
              "\n",
              "    [theme=dark] .colab-df-convert {\n",
              "      background-color: #3B4455;\n",
              "      fill: #D2E3FC;\n",
              "    }\n",
              "\n",
              "    [theme=dark] .colab-df-convert:hover {\n",
              "      background-color: #434B5C;\n",
              "      box-shadow: 0px 1px 3px 1px rgba(0, 0, 0, 0.15);\n",
              "      filter: drop-shadow(0px 1px 2px rgba(0, 0, 0, 0.3));\n",
              "      fill: #FFFFFF;\n",
              "    }\n",
              "  </style>\n",
              "\n",
              "    <script>\n",
              "      const buttonEl =\n",
              "        document.querySelector('#df-9b3440b4-1a5e-4efb-98d1-b10c6300ab2c button.colab-df-convert');\n",
              "      buttonEl.style.display =\n",
              "        google.colab.kernel.accessAllowed ? 'block' : 'none';\n",
              "\n",
              "      async function convertToInteractive(key) {\n",
              "        const element = document.querySelector('#df-9b3440b4-1a5e-4efb-98d1-b10c6300ab2c');\n",
              "        const dataTable =\n",
              "          await google.colab.kernel.invokeFunction('convertToInteractive',\n",
              "                                                    [key], {});\n",
              "        if (!dataTable) return;\n",
              "\n",
              "        const docLinkHtml = 'Like what you see? Visit the ' +\n",
              "          '<a target=\"_blank\" href=https://colab.research.google.com/notebooks/data_table.ipynb>data table notebook</a>'\n",
              "          + ' to learn more about interactive tables.';\n",
              "        element.innerHTML = '';\n",
              "        dataTable['output_type'] = 'display_data';\n",
              "        await google.colab.output.renderOutput(dataTable, element);\n",
              "        const docLink = document.createElement('div');\n",
              "        docLink.innerHTML = docLinkHtml;\n",
              "        element.appendChild(docLink);\n",
              "      }\n",
              "    </script>\n",
              "  </div>\n",
              "\n",
              "\n",
              "<div id=\"df-578e85ce-3c6b-4099-971b-7b48acaae126\">\n",
              "  <button class=\"colab-df-quickchart\" onclick=\"quickchart('df-578e85ce-3c6b-4099-971b-7b48acaae126')\"\n",
              "            title=\"Suggest charts\"\n",
              "            style=\"display:none;\">\n",
              "\n",
              "<svg xmlns=\"http://www.w3.org/2000/svg\" height=\"24px\"viewBox=\"0 0 24 24\"\n",
              "     width=\"24px\">\n",
              "    <g>\n",
              "        <path d=\"M19 3H5c-1.1 0-2 .9-2 2v14c0 1.1.9 2 2 2h14c1.1 0 2-.9 2-2V5c0-1.1-.9-2-2-2zM9 17H7v-7h2v7zm4 0h-2V7h2v10zm4 0h-2v-4h2v4z\"/>\n",
              "    </g>\n",
              "</svg>\n",
              "  </button>\n",
              "\n",
              "<style>\n",
              "  .colab-df-quickchart {\n",
              "      --bg-color: #E8F0FE;\n",
              "      --fill-color: #1967D2;\n",
              "      --hover-bg-color: #E2EBFA;\n",
              "      --hover-fill-color: #174EA6;\n",
              "      --disabled-fill-color: #AAA;\n",
              "      --disabled-bg-color: #DDD;\n",
              "  }\n",
              "\n",
              "  [theme=dark] .colab-df-quickchart {\n",
              "      --bg-color: #3B4455;\n",
              "      --fill-color: #D2E3FC;\n",
              "      --hover-bg-color: #434B5C;\n",
              "      --hover-fill-color: #FFFFFF;\n",
              "      --disabled-bg-color: #3B4455;\n",
              "      --disabled-fill-color: #666;\n",
              "  }\n",
              "\n",
              "  .colab-df-quickchart {\n",
              "    background-color: var(--bg-color);\n",
              "    border: none;\n",
              "    border-radius: 50%;\n",
              "    cursor: pointer;\n",
              "    display: none;\n",
              "    fill: var(--fill-color);\n",
              "    height: 32px;\n",
              "    padding: 0;\n",
              "    width: 32px;\n",
              "  }\n",
              "\n",
              "  .colab-df-quickchart:hover {\n",
              "    background-color: var(--hover-bg-color);\n",
              "    box-shadow: 0 1px 2px rgba(60, 64, 67, 0.3), 0 1px 3px 1px rgba(60, 64, 67, 0.15);\n",
              "    fill: var(--button-hover-fill-color);\n",
              "  }\n",
              "\n",
              "  .colab-df-quickchart-complete:disabled,\n",
              "  .colab-df-quickchart-complete:disabled:hover {\n",
              "    background-color: var(--disabled-bg-color);\n",
              "    fill: var(--disabled-fill-color);\n",
              "    box-shadow: none;\n",
              "  }\n",
              "\n",
              "  .colab-df-spinner {\n",
              "    border: 2px solid var(--fill-color);\n",
              "    border-color: transparent;\n",
              "    border-bottom-color: var(--fill-color);\n",
              "    animation:\n",
              "      spin 1s steps(1) infinite;\n",
              "  }\n",
              "\n",
              "  @keyframes spin {\n",
              "    0% {\n",
              "      border-color: transparent;\n",
              "      border-bottom-color: var(--fill-color);\n",
              "      border-left-color: var(--fill-color);\n",
              "    }\n",
              "    20% {\n",
              "      border-color: transparent;\n",
              "      border-left-color: var(--fill-color);\n",
              "      border-top-color: var(--fill-color);\n",
              "    }\n",
              "    30% {\n",
              "      border-color: transparent;\n",
              "      border-left-color: var(--fill-color);\n",
              "      border-top-color: var(--fill-color);\n",
              "      border-right-color: var(--fill-color);\n",
              "    }\n",
              "    40% {\n",
              "      border-color: transparent;\n",
              "      border-right-color: var(--fill-color);\n",
              "      border-top-color: var(--fill-color);\n",
              "    }\n",
              "    60% {\n",
              "      border-color: transparent;\n",
              "      border-right-color: var(--fill-color);\n",
              "    }\n",
              "    80% {\n",
              "      border-color: transparent;\n",
              "      border-right-color: var(--fill-color);\n",
              "      border-bottom-color: var(--fill-color);\n",
              "    }\n",
              "    90% {\n",
              "      border-color: transparent;\n",
              "      border-bottom-color: var(--fill-color);\n",
              "    }\n",
              "  }\n",
              "</style>\n",
              "\n",
              "  <script>\n",
              "    async function quickchart(key) {\n",
              "      const quickchartButtonEl =\n",
              "        document.querySelector('#' + key + ' button');\n",
              "      quickchartButtonEl.disabled = true;  // To prevent multiple clicks.\n",
              "      quickchartButtonEl.classList.add('colab-df-spinner');\n",
              "      try {\n",
              "        const charts = await google.colab.kernel.invokeFunction(\n",
              "            'suggestCharts', [key], {});\n",
              "      } catch (error) {\n",
              "        console.error('Error during call to suggestCharts:', error);\n",
              "      }\n",
              "      quickchartButtonEl.classList.remove('colab-df-spinner');\n",
              "      quickchartButtonEl.classList.add('colab-df-quickchart-complete');\n",
              "    }\n",
              "    (() => {\n",
              "      let quickchartButtonEl =\n",
              "        document.querySelector('#df-578e85ce-3c6b-4099-971b-7b48acaae126 button');\n",
              "      quickchartButtonEl.style.display =\n",
              "        google.colab.kernel.accessAllowed ? 'block' : 'none';\n",
              "    })();\n",
              "  </script>\n",
              "</div>\n",
              "\n",
              "    </div>\n",
              "  </div>\n"
            ],
            "application/vnd.google.colaboratory.intrinsic+json": {
              "type": "dataframe",
              "summary": "{\n  \"name\": \"df_regression_models\",\n  \"rows\": 8,\n  \"fields\": [\n    {\n      \"column\": \"SGDRegressor\",\n      \"properties\": {\n        \"dtype\": \"number\",\n        \"std\": 2.949661833412201,\n        \"min\": 0.13978611819067616,\n        \"max\": 10.0,\n        \"num_unique_values\": 8,\n        \"samples\": [\n          2.2216858532524,\n          2.189009649621343,\n          10.0\n        ],\n        \"semantic_type\": \"\",\n        \"description\": \"\"\n      }\n    },\n    {\n      \"column\": \"XGBRegressor\",\n      \"properties\": {\n        \"dtype\": \"number\",\n        \"std\": 2.9305787292157577,\n        \"min\": 0.13061002370356867,\n        \"max\": 10.0,\n        \"num_unique_values\": 8,\n        \"samples\": [\n          2.3073894023895263,\n          2.2694791555404663,\n          10.0\n        ],\n        \"semantic_type\": \"\",\n        \"description\": \"\"\n      }\n    },\n    {\n      \"column\": \"KNeighborsRegressor\",\n      \"properties\": {\n        \"dtype\": \"number\",\n        \"std\": 2.9340851126796803,\n        \"min\": 0.14082871447362455,\n        \"max\": 10.0,\n        \"num_unique_values\": 8,\n        \"samples\": [\n          2.2887342826950707,\n          2.258488750397372,\n          10.0\n        ],\n        \"semantic_type\": \"\",\n        \"description\": \"\"\n      }\n    },\n    {\n      \"column\": \"LGBMRegressor\",\n      \"properties\": {\n        \"dtype\": \"number\",\n        \"std\": 2.9548595982395174,\n        \"min\": 0.14547350669205703,\n        \"max\": 10.0,\n        \"num_unique_values\": 8,\n        \"samples\": [\n          2.1764258060620567,\n          2.1631738591087624,\n          10.0\n        ],\n        \"semantic_type\": \"\",\n        \"description\": \"\"\n      }\n    }\n  ]\n}"
            }
          },
          "metadata": {},
          "execution_count": 28
        }
      ]
    },
    {
      "cell_type": "markdown",
      "source": [
        "O `LGBMRegressor` tem a menor média de RMSE (2.17), em média, é o modelo com o menor erro quadrático médio entre os testados. Em contrapartida temos os modelo `XGBRegressor` com o pior RMSE(2.30). Quando olhamos para variabilidade, obtemos uma inversão de desempenhos dos modelos, O `XGBRegressor` passa ser o modelo com menor variabilidade, enquanto que o `LGBMRegressor` é pior modelo nesse quesito."
      ],
      "metadata": {
        "id": "GF7Fko4BBTH6"
      }
    },
    {
      "cell_type": "markdown",
      "source": [
        "### **Otimização dos Hiperparâmetro - Bayesian Optimization**\n",
        "\n",
        " A Otimização Bayesiana é um método que busca encontrar o conjunto de hiperparâmetros que maximiza a performance do modelo de forma eficiente. Ao contrário da random search ou de grid search, a Otimização Bayesiana usa um modelo probabilístico para selecionar os conjuntos de hiperparâmetros. O processo começa com a definição de uma função de aquisição, que decide quais hiperparâmetros testar em seguida, com base no modelo probabilístico. Um dos métodos mais comuns para a função de aquisição é a Expected Improvement (EI), que escolhe os hiperparâmetros que têm a maior expectativa de melhorar o desempenho em relação ao melhor resultado obtido até o momento. No python, uma das bibliotecas mais populares para realizar Otimização Bayesiana é o `Scikit-Optimize (skopt)`."
      ],
      "metadata": {
        "id": "TaQB3nlH9uaX"
      }
    },
    {
      "cell_type": "markdown",
      "source": [
        "####**LightGBM(Light Gradient Boosting Machine)**\n",
        "\n",
        "Light GBM, abreviação de Light Gradient Boosting Machine, é uma implementação de alto desempenho, distribuída e de código aberto do framework gradient boosting. Foi desenvolvido pela Microsoft e é projetado para treinamento eficiente e distribuído em conjuntos de dados muito grandes. Ele é uma implementação eficiente do algoritmo de gradient boosting. O Light GBM se destaca devido à sua abordagem única para construir árvores de decisão. Diferentemente dos métodos tradicionais de aumento de gradiente, que usam crescimento de árvore em profundidade, o Light GBM emprega uma estratégia de crescimento de árvore folha a folha."
      ],
      "metadata": {
        "id": "ykyKiNHgSgBa"
      }
    },
    {
      "cell_type": "markdown",
      "source": [
        "Utilizando a biblioteca skopt, definimos um espaço de busca que inclui seis hiperparâmetros importantes para o algoritmo LightGBM:\n",
        "\n",
        "* `num_leaves`: Máximo de folhas de árvore para aprendizes base.\n",
        "\n",
        "* `min_child_samples`: Número mínimo de dados necessários em um filho (folha).\n",
        "\n",
        "* `learning_rate`: Taxa de aprendizado.\n",
        "\n",
        "* `subsample`: Proporção de subamostragem da instância de treinamento.\n",
        "\n",
        "* `colsample_bytree`: Proporção de subamostragem de colunas ao construir cada árvore.\n",
        "\n",
        "* `n_estimators`: Número de árvores impulsionadas para ajustar.\n"
      ],
      "metadata": {
        "id": "QCydgvkZatIy"
      }
    },
    {
      "cell_type": "code",
      "source": [
        "lgbm_space  = [\n",
        "    Integer(2, 128, name='num_leaves'),\n",
        "    Integer(1, 100, name='min_child_samples'),\n",
        "    Real(1e-3, 1e-1, prior='log-uniform', name='learning_rate'),\n",
        "    Real(0.05, 1.0, name='subsample'),\n",
        "    Real(0.05, 1.0, name='colsample_bytree'),\n",
        "    Integer(100, 1000, name='n_estimators'),\n",
        "]"
      ],
      "metadata": {
        "id": "Fb-S7k3QJgke"
      },
      "execution_count": null,
      "outputs": []
    },
    {
      "cell_type": "markdown",
      "source": [
        "Aqui, criei uma função chamada `lgbm_objective` que será usada para avaliar o desempenho do modelo LGBM em relação aos hiperparâmetros que estão sendo otimizados."
      ],
      "metadata": {
        "id": "R0JdZZQupnoB"
      }
    },
    {
      "cell_type": "code",
      "source": [
        "@use_named_args(lgbm_space)\n",
        "def lgbm_objective(**params):\n",
        "    model = LGBMRegressor(**params, verbose=-1, random_state=0)\n",
        "    pipeline = Pipeline(steps=[('preprocessor', preprocessor),\n",
        "                                ('regressor', model)])\n",
        "    scores = -cross_val_score(pipeline, X_train, y_train,\n",
        "                              cv=5, scoring='neg_root_mean_squared_error')\n",
        "    return np.mean(scores)"
      ],
      "metadata": {
        "id": "qOJwkoSHVu9I"
      },
      "execution_count": null,
      "outputs": []
    },
    {
      "cell_type": "markdown",
      "source": [
        "A seguir, irei executar o processo de otimização bayesiana para ajustar os hiperparâmetros do LGBM."
      ],
      "metadata": {
        "id": "PJ1zLT-xp6tA"
      }
    },
    {
      "cell_type": "code",
      "source": [
        "lgbm_result = gp_minimize(lgbm_objective, lgbm_space, n_calls=200, random_state=0, n_random_starts=10)\n",
        "print(f'Best hyperparameters {lgbm_result.x}')\n",
        "print(f'Best RMSE {lgbm_result.fun}')"
      ],
      "metadata": {
        "colab": {
          "base_uri": "https://localhost:8080/"
        },
        "id": "AH6rvvJI6zQ3",
        "outputId": "3962b44b-6e91-446d-a780-93f2463a2227"
      },
      "execution_count": null,
      "outputs": [
        {
          "output_type": "stream",
          "name": "stdout",
          "text": [
            "Best hyperparameters [np.int64(97), np.int64(53), 0.006511596267978349, 1.0, 0.7524659720502259, np.int64(680)]\n",
            "Best RMSE 2.1398470331881696\n"
          ]
        }
      ]
    },
    {
      "cell_type": "markdown",
      "source": [
        "A otimização revelou que os hiperparâmetros selecionados com `num_leaves` de **97**, `min_child_samples` de **53**, `learning_rate` de **0.00651**, `subsample` de **1.0**, `colsample_bytree` de **0.7524** e `n_estimators` de **680** conseguiram alcançar um RMSE de **2.1398**"
      ],
      "metadata": {
        "id": "jqjWOoE2i1dV"
      }
    },
    {
      "cell_type": "markdown",
      "source": [
        "####**Stochastic Gradient Descent (SGD)**\n",
        "\n",
        "Stochastic Gradient Descent (SGD) é um algoritmo de otimização amplamente utilizado em Machine Learning. Ele é uma variante do método de gradiente descendente (GD) que atualiza os parâmetros de um modelo de forma iterativa para minimizar uma função de custo. Ao contrário do GD tradicional, que calcula o gradiente da função de custo utilizando todo o conjunto de dados de treinamento, o SGD atualiza os parâmetros com base em um único exemplo de treinamento ou um pequeno mini-lote."
      ],
      "metadata": {
        "id": "rWbBl_5tVdic"
      }
    },
    {
      "cell_type": "markdown",
      "source": [
        "Utilizando a biblioteca skopt, definimos um espaço de busca que inclui quatro hiperparâmetros importantes para o algoritmo SGD:\n",
        "\n",
        "* `alpha`: Constante que multiplica o termo de regularização.\n",
        "\n",
        "* `penalty`: A penalidade (também conhecida como termo de regularização) a ser usada.\n",
        "\n",
        "* `max_iter`: O número máximo de passagens sobre os dados de treinamento (também conhecidos como épocas).\n",
        "\n",
        "* `learning_rate`: Taxa de aprendizagem.\n",
        "\n"
      ],
      "metadata": {
        "id": "P1Kiobq-aYgc"
      }
    },
    {
      "cell_type": "code",
      "source": [
        "sgd_space = [\n",
        "    Real(1e-6, 1e-2, prior='log-uniform', name='alpha'),\n",
        "    Categorical(['l2', 'l1', 'elasticnet'], name='penalty'),\n",
        "    Integer(1000, 5000, name='max_iter'),\n",
        "    Categorical(['constant', 'optimal', 'invscaling', 'adaptive'], name='learning_rate')\n",
        "]"
      ],
      "metadata": {
        "id": "AQUcIC7as55f"
      },
      "execution_count": null,
      "outputs": []
    },
    {
      "cell_type": "markdown",
      "source": [
        "Aqui, criei uma função chamada `sgd_objective` que será usada para avaliar o desempenho do modelo SGD em relação aos hiperparâmetros que estão sendo otimizados."
      ],
      "metadata": {
        "id": "6jeB59ZYa1Eh"
      }
    },
    {
      "cell_type": "code",
      "source": [
        "@use_named_args(sgd_space)\n",
        "def sgd_objective(**params):\n",
        "    model = SGDRegressor(**params, random_state=0)\n",
        "    pipeline = Pipeline(steps=[('preprocessor', preprocessor),\n",
        "                                ('regressor', model)])\n",
        "    scores = -cross_val_score(pipeline, X_train, y_train,\n",
        "                              cv=5, scoring='neg_root_mean_squared_error')\n",
        "    return np.mean(scores)"
      ],
      "metadata": {
        "id": "rUuTkAQRtA4V"
      },
      "execution_count": null,
      "outputs": []
    },
    {
      "cell_type": "markdown",
      "source": [
        "A seguir, irei executar o processo de otimização bayesiana para ajustar os hiperparâmetros do SGD."
      ],
      "metadata": {
        "id": "j5YcJYRhbdnx"
      }
    },
    {
      "cell_type": "code",
      "source": [
        "sgd_result = gp_minimize(sgd_objective, n_calls=200,random_state=0, n_random_starts=10)\n",
        "print(f'Best hyperparameters {sgd_result.x}')\n",
        "print(f'Best RMSE {sgd_result.fun}')"
      ],
      "metadata": {
        "colab": {
          "base_uri": "https://localhost:8080/"
        },
        "id": "8tLxgX54_mbb",
        "outputId": "ff63fad0-6413-44b1-ee21-8b53f4fced7f"
      },
      "execution_count": null,
      "outputs": [
        {
          "output_type": "stream",
          "name": "stdout",
          "text": [
            "Best hyperparameters [0.0007630106835260421, 'l1', np.int64(3149), 'adaptive']\n",
            "Best RMSE 2.2060960996711274\n"
          ]
        }
      ]
    },
    {
      "cell_type": "markdown",
      "source": [
        "A otimização revelou que os hiperparâmetros selecionados com `alpha` de **0.00076**, `penalty` configurado como **l1**, `max_iter` igual a **3149** e `learning_rate` definido como **adaptive** conseguiram atingir um RMSE de **2.2060**."
      ],
      "metadata": {
        "id": "8aJTHYmYiChf"
      }
    },
    {
      "cell_type": "markdown",
      "source": [
        "####**KNN(K-Nearest Neighbors)**\n",
        "\n",
        "K-vizinhos mais próximos (KNN) é um tipo de algoritmo de aprendizado supervisionado usado para regressão e classificação.\n",
        "Seu funcionamento baseia-se na ideia de que amostras similares estão próximas no espaço das características. O KNN classifica uma nova amostra com base nas classes dos K exemplos mais próximos do conjunto de treinamento. A proximidade entre as amostras é medida por uma métrica de distância, sendo as mais comuns a distância Euclidiana, a distância de Manhattan e a distância de Minkowski.\n",
        "\n"
      ],
      "metadata": {
        "id": "kDLvQsNqL1-_"
      }
    },
    {
      "cell_type": "markdown",
      "source": [
        "Utilizando a biblioteca skopt, definimos um espaço de busca que inclui quatro hiperparâmetros importantes para o algoritmo KNN:\n",
        "\n",
        "* `n_neighbors`:Número de vizinhos a serem usados.\n",
        "\n",
        "* `weights`: Função de peso usada na predição.\n",
        "\n",
        "* `metric`: Métrica a ser usada para cálculo de distância.\n",
        "\n",
        "* `p`: Parâmetro de potência para a métrica de Minkowski.\n",
        "\n"
      ],
      "metadata": {
        "id": "OP8cTcyMUmSj"
      }
    },
    {
      "cell_type": "code",
      "source": [
        "knn_space = [\n",
        "    Integer(1, 400, name='n_neighbors'),\n",
        "    Categorical(['uniform', 'distance'], name='weights'),\n",
        "    Categorical(['euclidean', 'manhattan', 'minkowski'], name='metric'),\n",
        "    Integer(1, 5, name='p')\n",
        "]"
      ],
      "metadata": {
        "id": "juKP3o6yHwHH"
      },
      "execution_count": null,
      "outputs": []
    },
    {
      "cell_type": "markdown",
      "source": [
        "Aqui, criei uma função chamada `knn_objective` que será usada para avaliar o desempenho do modelo KNN em relação aos hiperparâmetros que estão sendo otimizados."
      ],
      "metadata": {
        "id": "8tcP9vAoWPCU"
      }
    },
    {
      "cell_type": "code",
      "source": [
        "@use_named_args(knn_space)\n",
        "def knn_objective(**params):\n",
        "    model = KNeighborsRegressor(**params)\n",
        "    pipeline = Pipeline(steps=[('preprocessor', preprocessor),\n",
        "                                ('regressor', model)])\n",
        "    scores = -cross_val_score(pipeline, X_train, y_train,\n",
        "                              cv=5, scoring='neg_root_mean_squared_error')\n",
        "    return np.mean(scores)"
      ],
      "metadata": {
        "id": "0HhCZsupJGzw"
      },
      "execution_count": null,
      "outputs": []
    },
    {
      "cell_type": "markdown",
      "source": [
        "A seguir, irei executar o processo de otimização bayesiana para ajustar os hiperparâmetros do KNN."
      ],
      "metadata": {
        "id": "FO6W42UuWcTe"
      }
    },
    {
      "cell_type": "code",
      "source": [
        "knn_result = gp_minimize(knn_objective, knn_space, n_calls=200,random_state=0, n_random_starts=10)\n",
        "print(f'Best hyperparameters {knn_result.x}')\n",
        "print(f'Best RMSE {knn_result.fun}')"
      ],
      "metadata": {
        "colab": {
          "base_uri": "https://localhost:8080/"
        },
        "id": "L6vgVPEkD7dI",
        "outputId": "7dde46ee-e706-4c11-fa73-52ec626570fc"
      },
      "execution_count": null,
      "outputs": [
        {
          "output_type": "stream",
          "name": "stdout",
          "text": [
            "Best hyperparameters [np.int64(16), np.str_('distance'), np.str_('euclidean'), np.int64(3)]\n",
            "Best RMSE 2.2239008225067574\n"
          ]
        }
      ]
    },
    {
      "cell_type": "markdown",
      "source": [
        "A otimização revelou que os hiperparâmetros selecionados com `n_neighbors` de **16**, `weights` configurado como **distance**, `metric` definido como **euclidean** e `p` igual a **3** conseguiram atingir um RMSE de **2.22**."
      ],
      "metadata": {
        "id": "BKsqUM_UYd2R"
      }
    },
    {
      "cell_type": "markdown",
      "source": [
        "####**XGBoost(eXtreme Gradient Boosting)**\n",
        "\n",
        "eXtreme Gradient Boosting (XGBoost) é uma implementação escalável e altamente precisa de aumento de gradiente que expande os limites do poder de computação para algoritmos de árvore aumentada, sendo construído em grande parte para energizar o desempenho do modelo de aprendizado de máquina e a velocidade computacional. Com o XGBoost, as árvores são construídas em paralelo, em vez de sequencialmente como o GBDT. Ele segue uma estratégia de nível, escaneando valores de gradiente e usando essas somas parciais para avaliar a qualidade das divisões em cada divisão possível no conjunto de treinamento."
      ],
      "metadata": {
        "id": "IkabLrkTL8Rk"
      }
    },
    {
      "cell_type": "markdown",
      "source": [
        "Utilizando a biblioteca skopt, definimos um espaço de busca que inclui cinco hiperparâmetros importantes para o algoritmo XGBoost:\n",
        "\n",
        "* `learning_rate`:Taxa de aprendizado do modelo.\n",
        "\n",
        "* `n_estimators`: Número de árvores de decisão.\n",
        "\n",
        "* `max_depth`: Profundidade máxima de cada árvore de decisão.\n",
        "\n",
        "* `min_child_weight`: Soma mínima do peso da instância (hessian) necessária em um nó filho.\n",
        "\n",
        "* `gamma`: Redução mínima de perda necessária para fazer uma partição adicional em um nó folha da árvore.\n"
      ],
      "metadata": {
        "id": "3d7dTCo4eCS_"
      }
    },
    {
      "cell_type": "code",
      "source": [
        "xgb_space = [\n",
        "    Real(0.0001, 1.0, name='learning_rate', prior='log-uniform'),\n",
        "    Integer(100, 500, name='n_estimators'),\n",
        "    Integer(1, 10, name='max_depth'),\n",
        "    Integer(1, 10, name='min_child_weight'),\n",
        "    Real(0.1, 1.0, name='gamma', prior='uniform')\n",
        "]"
      ],
      "metadata": {
        "id": "suGtCNp_NPBo"
      },
      "execution_count": null,
      "outputs": []
    },
    {
      "cell_type": "markdown",
      "source": [
        "Aqui, criei uma função chamada `xgb_objective` que será usada para avaliar o desempenho do modelo XGBoost em relação aos hiperparâmetros que estão sendo otimizados."
      ],
      "metadata": {
        "id": "wuagTNOIKkI9"
      }
    },
    {
      "cell_type": "code",
      "source": [
        "@use_named_args(xgb_space)\n",
        "def xgb_objective(**params):\n",
        "    model = XGBRegressor(**params, random_state=0)\n",
        "    pipeline = Pipeline(steps=[('preprocessor', preprocessor),\n",
        "                                ('regressor', model)])\n",
        "    scores = -cross_val_score(pipeline, X_train, y_train,\n",
        "                              cv=5, scoring='neg_root_mean_squared_error')\n",
        "    return np.mean(scores)"
      ],
      "metadata": {
        "id": "-ncDZPP-PZTz"
      },
      "execution_count": null,
      "outputs": []
    },
    {
      "cell_type": "markdown",
      "source": [
        "A seguir, irei executar o processo de otimização bayesiana para ajustar os hiperparâmetros do XGBoost."
      ],
      "metadata": {
        "id": "eqwEbaUSK4xh"
      }
    },
    {
      "cell_type": "code",
      "source": [
        "xgb_result = gp_minimize(xgb_objective, xgb_space,verbose=1, n_calls=200,random_state=0, n_random_starts=10)\n",
        "print(f'Best hyperparameters {xgb_result.x}')\n",
        "print(f'Best RMSE {xgb_result.fun}')"
      ],
      "metadata": {
        "colab": {
          "base_uri": "https://localhost:8080/"
        },
        "id": "f9CKUDocK2ku",
        "outputId": "ee585691-6042-4344-f17e-7573a1c9cbd4"
      },
      "execution_count": null,
      "outputs": [
        {
          "output_type": "stream",
          "name": "stdout",
          "text": [
            "Best hyperparameters [0.010106631098766576, np.int64(437), np.int64(6), np.int64(10), 1.0]\n",
            "Best RMSE 2.1471481800079344\n"
          ]
        }
      ]
    },
    {
      "cell_type": "markdown",
      "source": [
        "A otimização revelou que os hiperparâmetros selecionados com um `learning_rate` de **0.0101**, `n_estimators` de **437**, `max_depth` de **6**, `min_child_weight` de **10** e `gamma` de **1,0** conseguiram alcançar um RMSE de **2.14**."
      ],
      "metadata": {
        "id": "DrjltIV1Mc1n"
      }
    },
    {
      "cell_type": "markdown",
      "metadata": {
        "id": "3cQb11uBrvkq"
      },
      "source": [
        "## Avaliar o desempenho do modelo\n",
        "A avaliação é a etapa onde testamos se nosso modelo é capaz de cumprir a missão que foi definida para ele. É nessa fase que utilizamos diferentes métricas e técnicas para avaliar a eficácia do modelo em relação aos dados de teste. Mas não é só isso! Também avaliamos se o modelo é capaz de lidar com novos dados que não foram usados no treinamento e se ele é robusto o suficiente para lidar com diferentes cenários e variações."
      ]
    },
    {
      "cell_type": "code",
      "source": [
        "from sklearn.metrics import r2_score, mean_squared_error\n",
        "from joblib import dump, load"
      ],
      "metadata": {
        "id": "8Ecwdct47X0R"
      },
      "execution_count": null,
      "outputs": []
    },
    {
      "cell_type": "markdown",
      "source": [
        "No início do projeto, dividimos os dados em dois conjuntos: um de treino e outro de teste. Agora que já exploramos, preparamos os dados e otimizamos os hiperparâmetros, é hora de avaliar o potencial do modelo com os dados de teste. No entanto, para que os resultados sejam justos, é necessário garantir que os novos dados estejam nas mesmas condições dos dados de treinamento, aos quais aplicamos as transformações."
      ],
      "metadata": {
        "id": "2wi47WzVOlh1"
      }
    },
    {
      "cell_type": "code",
      "source": [
        "X_test_enc = encoder.transform(X_test[['Sex']].copy())\n",
        "X_test_enc = pd.DataFrame(X_test_enc.toarray().astype('int'), columns=encoder.get_feature_names_out(['Sex']))\n",
        "X_test_enc.reset_index(drop=True, inplace=True)\n",
        "X_test_scaler = scaler.transform(X_test[scaler_columns].copy())\n",
        "X_test_transform = pd.DataFrame(X_test_scaler, columns=X_test[scaler_columns].columns)\n",
        "X_test_transform = pd.concat([X_test_enc, X_test_transform], axis=1)\n",
        "X_test_transform.head()"
      ],
      "metadata": {
        "colab": {
          "base_uri": "https://localhost:8080/",
          "height": 226
        },
        "id": "NTw4rNzXD-XB",
        "outputId": "f8fc0e44-4fa7-48cd-a5cb-bd0bcf106958"
      },
      "execution_count": null,
      "outputs": [
        {
          "output_type": "execute_result",
          "data": {
            "text/plain": [
              "   Sex_F  Sex_I  Sex_M    Length  Diameter  Height  Whole_weight  \\\n",
              "0      0      1      0 -0.393939 -0.538462    -0.3     -0.435336   \n",
              "1      0      1      0  0.363636  0.076923    -0.2      0.142049   \n",
              "2      1      0      0 -0.060606  0.153846    -0.3      0.099647   \n",
              "3      0      1      0 -0.636364 -0.615385    -0.4     -0.445230   \n",
              "4      0      1      0  0.030303 -0.038462    -0.2     -0.234629   \n",
              "\n",
              "   Shucked_weight  Viscera_weight  Shell_weight    Volume  \n",
              "0       -0.309524       -0.548896     -0.430025 -0.377850  \n",
              "1        0.304762        0.022082      0.129771  0.043269  \n",
              "2        0.257143        0.179811      0.027990 -0.101967  \n",
              "3       -0.442857       -0.394322     -0.379135 -0.478427  \n",
              "4       -0.133333       -0.167192     -0.300254 -0.093142  "
            ],
            "text/html": [
              "\n",
              "  <div id=\"df-2af7805b-7c9a-4020-9ecf-81e2e2c172a1\" class=\"colab-df-container\">\n",
              "    <div>\n",
              "<style scoped>\n",
              "    .dataframe tbody tr th:only-of-type {\n",
              "        vertical-align: middle;\n",
              "    }\n",
              "\n",
              "    .dataframe tbody tr th {\n",
              "        vertical-align: top;\n",
              "    }\n",
              "\n",
              "    .dataframe thead th {\n",
              "        text-align: right;\n",
              "    }\n",
              "</style>\n",
              "<table border=\"1\" class=\"dataframe\">\n",
              "  <thead>\n",
              "    <tr style=\"text-align: right;\">\n",
              "      <th></th>\n",
              "      <th>Sex_F</th>\n",
              "      <th>Sex_I</th>\n",
              "      <th>Sex_M</th>\n",
              "      <th>Length</th>\n",
              "      <th>Diameter</th>\n",
              "      <th>Height</th>\n",
              "      <th>Whole_weight</th>\n",
              "      <th>Shucked_weight</th>\n",
              "      <th>Viscera_weight</th>\n",
              "      <th>Shell_weight</th>\n",
              "      <th>Volume</th>\n",
              "    </tr>\n",
              "  </thead>\n",
              "  <tbody>\n",
              "    <tr>\n",
              "      <th>0</th>\n",
              "      <td>0</td>\n",
              "      <td>1</td>\n",
              "      <td>0</td>\n",
              "      <td>-0.393939</td>\n",
              "      <td>-0.538462</td>\n",
              "      <td>-0.3</td>\n",
              "      <td>-0.435336</td>\n",
              "      <td>-0.309524</td>\n",
              "      <td>-0.548896</td>\n",
              "      <td>-0.430025</td>\n",
              "      <td>-0.377850</td>\n",
              "    </tr>\n",
              "    <tr>\n",
              "      <th>1</th>\n",
              "      <td>0</td>\n",
              "      <td>1</td>\n",
              "      <td>0</td>\n",
              "      <td>0.363636</td>\n",
              "      <td>0.076923</td>\n",
              "      <td>-0.2</td>\n",
              "      <td>0.142049</td>\n",
              "      <td>0.304762</td>\n",
              "      <td>0.022082</td>\n",
              "      <td>0.129771</td>\n",
              "      <td>0.043269</td>\n",
              "    </tr>\n",
              "    <tr>\n",
              "      <th>2</th>\n",
              "      <td>1</td>\n",
              "      <td>0</td>\n",
              "      <td>0</td>\n",
              "      <td>-0.060606</td>\n",
              "      <td>0.153846</td>\n",
              "      <td>-0.3</td>\n",
              "      <td>0.099647</td>\n",
              "      <td>0.257143</td>\n",
              "      <td>0.179811</td>\n",
              "      <td>0.027990</td>\n",
              "      <td>-0.101967</td>\n",
              "    </tr>\n",
              "    <tr>\n",
              "      <th>3</th>\n",
              "      <td>0</td>\n",
              "      <td>1</td>\n",
              "      <td>0</td>\n",
              "      <td>-0.636364</td>\n",
              "      <td>-0.615385</td>\n",
              "      <td>-0.4</td>\n",
              "      <td>-0.445230</td>\n",
              "      <td>-0.442857</td>\n",
              "      <td>-0.394322</td>\n",
              "      <td>-0.379135</td>\n",
              "      <td>-0.478427</td>\n",
              "    </tr>\n",
              "    <tr>\n",
              "      <th>4</th>\n",
              "      <td>0</td>\n",
              "      <td>1</td>\n",
              "      <td>0</td>\n",
              "      <td>0.030303</td>\n",
              "      <td>-0.038462</td>\n",
              "      <td>-0.2</td>\n",
              "      <td>-0.234629</td>\n",
              "      <td>-0.133333</td>\n",
              "      <td>-0.167192</td>\n",
              "      <td>-0.300254</td>\n",
              "      <td>-0.093142</td>\n",
              "    </tr>\n",
              "  </tbody>\n",
              "</table>\n",
              "</div>\n",
              "    <div class=\"colab-df-buttons\">\n",
              "\n",
              "  <div class=\"colab-df-container\">\n",
              "    <button class=\"colab-df-convert\" onclick=\"convertToInteractive('df-2af7805b-7c9a-4020-9ecf-81e2e2c172a1')\"\n",
              "            title=\"Convert this dataframe to an interactive table.\"\n",
              "            style=\"display:none;\">\n",
              "\n",
              "  <svg xmlns=\"http://www.w3.org/2000/svg\" height=\"24px\" viewBox=\"0 -960 960 960\">\n",
              "    <path d=\"M120-120v-720h720v720H120Zm60-500h600v-160H180v160Zm220 220h160v-160H400v160Zm0 220h160v-160H400v160ZM180-400h160v-160H180v160Zm440 0h160v-160H620v160ZM180-180h160v-160H180v160Zm440 0h160v-160H620v160Z\"/>\n",
              "  </svg>\n",
              "    </button>\n",
              "\n",
              "  <style>\n",
              "    .colab-df-container {\n",
              "      display:flex;\n",
              "      gap: 12px;\n",
              "    }\n",
              "\n",
              "    .colab-df-convert {\n",
              "      background-color: #E8F0FE;\n",
              "      border: none;\n",
              "      border-radius: 50%;\n",
              "      cursor: pointer;\n",
              "      display: none;\n",
              "      fill: #1967D2;\n",
              "      height: 32px;\n",
              "      padding: 0 0 0 0;\n",
              "      width: 32px;\n",
              "    }\n",
              "\n",
              "    .colab-df-convert:hover {\n",
              "      background-color: #E2EBFA;\n",
              "      box-shadow: 0px 1px 2px rgba(60, 64, 67, 0.3), 0px 1px 3px 1px rgba(60, 64, 67, 0.15);\n",
              "      fill: #174EA6;\n",
              "    }\n",
              "\n",
              "    .colab-df-buttons div {\n",
              "      margin-bottom: 4px;\n",
              "    }\n",
              "\n",
              "    [theme=dark] .colab-df-convert {\n",
              "      background-color: #3B4455;\n",
              "      fill: #D2E3FC;\n",
              "    }\n",
              "\n",
              "    [theme=dark] .colab-df-convert:hover {\n",
              "      background-color: #434B5C;\n",
              "      box-shadow: 0px 1px 3px 1px rgba(0, 0, 0, 0.15);\n",
              "      filter: drop-shadow(0px 1px 2px rgba(0, 0, 0, 0.3));\n",
              "      fill: #FFFFFF;\n",
              "    }\n",
              "  </style>\n",
              "\n",
              "    <script>\n",
              "      const buttonEl =\n",
              "        document.querySelector('#df-2af7805b-7c9a-4020-9ecf-81e2e2c172a1 button.colab-df-convert');\n",
              "      buttonEl.style.display =\n",
              "        google.colab.kernel.accessAllowed ? 'block' : 'none';\n",
              "\n",
              "      async function convertToInteractive(key) {\n",
              "        const element = document.querySelector('#df-2af7805b-7c9a-4020-9ecf-81e2e2c172a1');\n",
              "        const dataTable =\n",
              "          await google.colab.kernel.invokeFunction('convertToInteractive',\n",
              "                                                    [key], {});\n",
              "        if (!dataTable) return;\n",
              "\n",
              "        const docLinkHtml = 'Like what you see? Visit the ' +\n",
              "          '<a target=\"_blank\" href=https://colab.research.google.com/notebooks/data_table.ipynb>data table notebook</a>'\n",
              "          + ' to learn more about interactive tables.';\n",
              "        element.innerHTML = '';\n",
              "        dataTable['output_type'] = 'display_data';\n",
              "        await google.colab.output.renderOutput(dataTable, element);\n",
              "        const docLink = document.createElement('div');\n",
              "        docLink.innerHTML = docLinkHtml;\n",
              "        element.appendChild(docLink);\n",
              "      }\n",
              "    </script>\n",
              "  </div>\n",
              "\n",
              "\n",
              "<div id=\"df-d42da9bb-2985-4335-8498-d35f26f1c82a\">\n",
              "  <button class=\"colab-df-quickchart\" onclick=\"quickchart('df-d42da9bb-2985-4335-8498-d35f26f1c82a')\"\n",
              "            title=\"Suggest charts\"\n",
              "            style=\"display:none;\">\n",
              "\n",
              "<svg xmlns=\"http://www.w3.org/2000/svg\" height=\"24px\"viewBox=\"0 0 24 24\"\n",
              "     width=\"24px\">\n",
              "    <g>\n",
              "        <path d=\"M19 3H5c-1.1 0-2 .9-2 2v14c0 1.1.9 2 2 2h14c1.1 0 2-.9 2-2V5c0-1.1-.9-2-2-2zM9 17H7v-7h2v7zm4 0h-2V7h2v10zm4 0h-2v-4h2v4z\"/>\n",
              "    </g>\n",
              "</svg>\n",
              "  </button>\n",
              "\n",
              "<style>\n",
              "  .colab-df-quickchart {\n",
              "      --bg-color: #E8F0FE;\n",
              "      --fill-color: #1967D2;\n",
              "      --hover-bg-color: #E2EBFA;\n",
              "      --hover-fill-color: #174EA6;\n",
              "      --disabled-fill-color: #AAA;\n",
              "      --disabled-bg-color: #DDD;\n",
              "  }\n",
              "\n",
              "  [theme=dark] .colab-df-quickchart {\n",
              "      --bg-color: #3B4455;\n",
              "      --fill-color: #D2E3FC;\n",
              "      --hover-bg-color: #434B5C;\n",
              "      --hover-fill-color: #FFFFFF;\n",
              "      --disabled-bg-color: #3B4455;\n",
              "      --disabled-fill-color: #666;\n",
              "  }\n",
              "\n",
              "  .colab-df-quickchart {\n",
              "    background-color: var(--bg-color);\n",
              "    border: none;\n",
              "    border-radius: 50%;\n",
              "    cursor: pointer;\n",
              "    display: none;\n",
              "    fill: var(--fill-color);\n",
              "    height: 32px;\n",
              "    padding: 0;\n",
              "    width: 32px;\n",
              "  }\n",
              "\n",
              "  .colab-df-quickchart:hover {\n",
              "    background-color: var(--hover-bg-color);\n",
              "    box-shadow: 0 1px 2px rgba(60, 64, 67, 0.3), 0 1px 3px 1px rgba(60, 64, 67, 0.15);\n",
              "    fill: var(--button-hover-fill-color);\n",
              "  }\n",
              "\n",
              "  .colab-df-quickchart-complete:disabled,\n",
              "  .colab-df-quickchart-complete:disabled:hover {\n",
              "    background-color: var(--disabled-bg-color);\n",
              "    fill: var(--disabled-fill-color);\n",
              "    box-shadow: none;\n",
              "  }\n",
              "\n",
              "  .colab-df-spinner {\n",
              "    border: 2px solid var(--fill-color);\n",
              "    border-color: transparent;\n",
              "    border-bottom-color: var(--fill-color);\n",
              "    animation:\n",
              "      spin 1s steps(1) infinite;\n",
              "  }\n",
              "\n",
              "  @keyframes spin {\n",
              "    0% {\n",
              "      border-color: transparent;\n",
              "      border-bottom-color: var(--fill-color);\n",
              "      border-left-color: var(--fill-color);\n",
              "    }\n",
              "    20% {\n",
              "      border-color: transparent;\n",
              "      border-left-color: var(--fill-color);\n",
              "      border-top-color: var(--fill-color);\n",
              "    }\n",
              "    30% {\n",
              "      border-color: transparent;\n",
              "      border-left-color: var(--fill-color);\n",
              "      border-top-color: var(--fill-color);\n",
              "      border-right-color: var(--fill-color);\n",
              "    }\n",
              "    40% {\n",
              "      border-color: transparent;\n",
              "      border-right-color: var(--fill-color);\n",
              "      border-top-color: var(--fill-color);\n",
              "    }\n",
              "    60% {\n",
              "      border-color: transparent;\n",
              "      border-right-color: var(--fill-color);\n",
              "    }\n",
              "    80% {\n",
              "      border-color: transparent;\n",
              "      border-right-color: var(--fill-color);\n",
              "      border-bottom-color: var(--fill-color);\n",
              "    }\n",
              "    90% {\n",
              "      border-color: transparent;\n",
              "      border-bottom-color: var(--fill-color);\n",
              "    }\n",
              "  }\n",
              "</style>\n",
              "\n",
              "  <script>\n",
              "    async function quickchart(key) {\n",
              "      const quickchartButtonEl =\n",
              "        document.querySelector('#' + key + ' button');\n",
              "      quickchartButtonEl.disabled = true;  // To prevent multiple clicks.\n",
              "      quickchartButtonEl.classList.add('colab-df-spinner');\n",
              "      try {\n",
              "        const charts = await google.colab.kernel.invokeFunction(\n",
              "            'suggestCharts', [key], {});\n",
              "      } catch (error) {\n",
              "        console.error('Error during call to suggestCharts:', error);\n",
              "      }\n",
              "      quickchartButtonEl.classList.remove('colab-df-spinner');\n",
              "      quickchartButtonEl.classList.add('colab-df-quickchart-complete');\n",
              "    }\n",
              "    (() => {\n",
              "      let quickchartButtonEl =\n",
              "        document.querySelector('#df-d42da9bb-2985-4335-8498-d35f26f1c82a button');\n",
              "      quickchartButtonEl.style.display =\n",
              "        google.colab.kernel.accessAllowed ? 'block' : 'none';\n",
              "    })();\n",
              "  </script>\n",
              "</div>\n",
              "\n",
              "    </div>\n",
              "  </div>\n"
            ],
            "application/vnd.google.colaboratory.intrinsic+json": {
              "type": "dataframe",
              "variable_name": "X_test_transform",
              "summary": "{\n  \"name\": \"X_test_transform\",\n  \"rows\": 418,\n  \"fields\": [\n    {\n      \"column\": \"Sex_F\",\n      \"properties\": {\n        \"dtype\": \"number\",\n        \"std\": 0,\n        \"min\": 0,\n        \"max\": 1,\n        \"num_unique_values\": 2,\n        \"samples\": [\n          1,\n          0\n        ],\n        \"semantic_type\": \"\",\n        \"description\": \"\"\n      }\n    },\n    {\n      \"column\": \"Sex_I\",\n      \"properties\": {\n        \"dtype\": \"number\",\n        \"std\": 0,\n        \"min\": 0,\n        \"max\": 1,\n        \"num_unique_values\": 2,\n        \"samples\": [\n          0,\n          1\n        ],\n        \"semantic_type\": \"\",\n        \"description\": \"\"\n      }\n    },\n    {\n      \"column\": \"Sex_M\",\n      \"properties\": {\n        \"dtype\": \"number\",\n        \"std\": 0,\n        \"min\": 0,\n        \"max\": 1,\n        \"num_unique_values\": 2,\n        \"samples\": [\n          1,\n          0\n        ],\n        \"semantic_type\": \"\",\n        \"description\": \"\"\n      }\n    },\n    {\n      \"column\": \"Length\",\n      \"properties\": {\n        \"dtype\": \"number\",\n        \"std\": 0.7385430966813604,\n        \"min\": -2.454545454545455,\n        \"max\": 1.636363636363636,\n        \"num_unique_values\": 102,\n        \"samples\": [\n          -0.12121212121212134,\n          0.696969696969697\n        ],\n        \"semantic_type\": \"\",\n        \"description\": \"\"\n      }\n    },\n    {\n      \"column\": \"Diameter\",\n      \"properties\": {\n        \"dtype\": \"number\",\n        \"std\": 0.7747643016690755,\n        \"min\": -2.4615384615384617,\n        \"max\": 1.730769230769231,\n        \"num_unique_values\": 87,\n        \"samples\": [\n          -0.923076923076923,\n          -0.5384615384615385\n        ],\n        \"semantic_type\": \"\",\n        \"description\": \"\"\n      }\n    },\n    {\n      \"column\": \"Height\",\n      \"properties\": {\n        \"dtype\": \"number\",\n        \"std\": 0.7777865909097004,\n        \"min\": -2.1,\n        \"max\": 2.1999999999999997,\n        \"num_unique_values\": 38,\n        \"samples\": [\n          -1.5000000000000002,\n          1.6999999999999997\n        ],\n        \"semantic_type\": \"\",\n        \"description\": \"\"\n      }\n    },\n    {\n      \"column\": \"Whole_weight\",\n      \"properties\": {\n        \"dtype\": \"number\",\n        \"std\": 0.7036595925437082,\n        \"min\": -1.1137809187279153,\n        \"max\": 2.2558303886925795,\n        \"num_unique_values\": 393,\n        \"samples\": [\n          -0.2000000000000001,\n          0.9780918727915193\n        ],\n        \"semantic_type\": \"\",\n        \"description\": \"\"\n      }\n    },\n    {\n      \"column\": \"Shucked_weight\",\n      \"properties\": {\n        \"dtype\": \"number\",\n        \"std\": 0.7300924211032281,\n        \"min\": -1.0492063492063495,\n        \"max\": 2.5301587301587305,\n        \"num_unique_values\": 377,\n        \"samples\": [\n          -0.8063492063492065,\n          -0.07777777777777786\n        ],\n        \"semantic_type\": \"\",\n        \"description\": \"\"\n      }\n    },\n    {\n      \"column\": \"Viscera_weight\",\n      \"properties\": {\n        \"dtype\": \"number\",\n        \"std\": 0.6867094038822932,\n        \"min\": -1.0599369085173502,\n        \"max\": 2.3375394321766563,\n        \"num_unique_values\": 326,\n        \"samples\": [\n          -0.28706624605678244,\n          -0.9242902208201894\n        ],\n        \"semantic_type\": \"\",\n        \"description\": \"\"\n      }\n    },\n    {\n      \"column\": \"Shell_weight\",\n      \"properties\": {\n        \"dtype\": \"number\",\n        \"std\": 0.7053139824653022,\n        \"min\": -1.1730279898218827,\n        \"max\": 2.8651399491094143,\n        \"num_unique_values\": 261,\n        \"samples\": [\n          -0.7735368956743001,\n          0.6437659033078881\n        ],\n        \"semantic_type\": \"\",\n        \"description\": \"\"\n      }\n    },\n    {\n      \"column\": \"Volume\",\n      \"properties\": {\n        \"dtype\": \"number\",\n        \"std\": 0.7042730247341955,\n        \"min\": -1.0557186185304763,\n        \"max\": 3.2466327495678824,\n        \"num_unique_values\": 404,\n        \"samples\": [\n          0.5967126504255938,\n          0.4936894628705605\n        ],\n        \"semantic_type\": \"\",\n        \"description\": \"\"\n      }\n    }\n  ]\n}"
            }
          },
          "metadata": {},
          "execution_count": 48
        }
      ]
    },
    {
      "cell_type": "markdown",
      "source": [
        "* Com as transformações aplicadas aos dados de teste, podemos iniciar o treinamento e realizar as previsões."
      ],
      "metadata": {
        "id": "PcOkLHk7RkJB"
      }
    },
    {
      "cell_type": "markdown",
      "source": [
        "### **Avaliação de Desempenho do Modelo LightGBM**\n",
        "utilizaremos os hiperparâmetros otimizados anteriormente para treinar o modelo LightGBM. Em seguida, avaliaremos seu desempenho preditivo nos dados de teste, empregando as métricas $R^2$ e RMSE."
      ],
      "metadata": {
        "id": "o4gLxhlXAvQJ"
      }
    },
    {
      "cell_type": "code",
      "source": [
        "lgbm_params ={'num_leaves':97, 'min_child_samples':53,'random_state':0,\n",
        "             'learning_rate':0.006511596267978349,'subsample':1.0,\n",
        "              'colsample_bytree':0.7524659720502259, 'n_estimators':680}\n",
        "lgbm_model = LGBMRegressor(**lgbm_params, verbose=-1)\n",
        "lgbm_model.fit(X_train_transform, y_train)\n",
        "y_pred_lgbm = lgbm_model.predict(X_test_transform)\n",
        "print(\"r2: \\t{:.4f}\".format(r2_score(y_test, y_pred_lgbm)))\n",
        "print(\"RMSE: \\t{:.4f}\".format(np.sqrt(mean_squared_error(y_test, y_pred_lgbm))))"
      ],
      "metadata": {
        "colab": {
          "base_uri": "https://localhost:8080/"
        },
        "id": "nNHelHao2qr5",
        "outputId": "b39a0141-0442-47a7-cbbb-484122f177a9"
      },
      "execution_count": null,
      "outputs": [
        {
          "output_type": "stream",
          "name": "stdout",
          "text": [
            "r2: \t0.5629\n",
            "RMSE: \t2.1118\n"
          ]
        }
      ]
    },
    {
      "cell_type": "markdown",
      "source": [
        "* O modelo LGBM apresentou o melhor desempenho geral, ele foi capaz de explicar cerca de 56% da variabilidade da variável target, com um erro médio de aproximadamente 2.11 anéis."
      ],
      "metadata": {
        "id": "LN57AHpwO5eV"
      }
    },
    {
      "cell_type": "markdown",
      "source": [
        "### **Avaliação de Desempenho do modelo SGD**\n",
        "\n",
        "Utilizaremos os hiperparâmetros otimizados anteriormente para treinar o modelo SGD. Em seguida, avaliaremos seu desempenho preditivo nos dados de teste, empregando as métricas $R^2$ e RMSE."
      ],
      "metadata": {
        "id": "2PGm_e15BR_Q"
      }
    },
    {
      "cell_type": "code",
      "source": [
        "sgd_params ={'alpha':0.0007630106835260421, 'penalty':'l1',\n",
        "             'max_iter':3149, 'learning_rate':'adaptive',\n",
        "             'random_state':0}\n",
        "sgd_model = SGDRegressor(**sgd_params)\n",
        "sgd_model.fit(X_train_transform, y_train)\n",
        "y_pred_sgd = sgd_model.predict(X_test_transform)\n",
        "print(\"r2: \\t{:.4f}\".format(r2_score(y_test, y_pred_sgd)))\n",
        "print(\"RMSE: \\t{:.4f}\".format(np.sqrt(mean_squared_error(y_test, y_pred_sgd))))"
      ],
      "metadata": {
        "id": "hVdPBIxUVWj4",
        "colab": {
          "base_uri": "https://localhost:8080/"
        },
        "outputId": "f245e2b0-9f93-41a3-e728-9592865f8e91"
      },
      "execution_count": null,
      "outputs": [
        {
          "output_type": "stream",
          "name": "stdout",
          "text": [
            "r2: \t0.5176\n",
            "RMSE: \t2.2186\n"
          ]
        }
      ]
    },
    {
      "cell_type": "markdown",
      "source": [
        "* O SGD obteve resultados considerado moderado, explicando cerca de 51% da variabilidade da variável target, com um erro médio de aproximadamente 2.21 anéis."
      ],
      "metadata": {
        "id": "Gj1dQ2ii7oUu"
      }
    },
    {
      "cell_type": "markdown",
      "source": [
        "### **Avaliação de Desempenho do modelo KNN**\n",
        "\n",
        "Utilizaremos os hiperparâmetros otimizados anteriormente para treinar o modelo KNN. Em seguida, avaliaremos seu desempenho preditivo nos dados de teste, empregando as métricas $R^2$ e RMSE."
      ],
      "metadata": {
        "id": "VhRDNulHBgbx"
      }
    },
    {
      "cell_type": "code",
      "source": [
        "knn_params ={'n_neighbors':16,'weights':'distance',\n",
        "             'metric':'euclidean','p':3}\n",
        "knn_model = KNeighborsRegressor(**knn_params)\n",
        "knn_model.fit(X_train_transform, y_train)\n",
        "y_pred_knn = knn_model.predict(X_test_transform)\n",
        "print(\"r2: \\t{:.4f}\".format(r2_score(y_test, y_pred_knn)))\n",
        "print(\"RMSE: \\t{:.4f}\".format(np.sqrt(mean_squared_error(y_test, y_pred_knn))))"
      ],
      "metadata": {
        "colab": {
          "base_uri": "https://localhost:8080/"
        },
        "id": "niJVxl7_wtsQ",
        "outputId": "8b79d5e0-f90d-4b27-c494-384adac8ce32"
      },
      "execution_count": null,
      "outputs": [
        {
          "output_type": "stream",
          "name": "stdout",
          "text": [
            "r2: \t0.4928\n",
            "RMSE: \t2.2748\n"
          ]
        }
      ]
    },
    {
      "cell_type": "markdown",
      "source": [
        "* O modelo KNN teve um desempenho inferior aos demais modelos, explicando cerca de 49% da variabilidade da variável target, com um erro médio de aproximadamente 2.27 anéis."
      ],
      "metadata": {
        "id": "pTw0RYwtG5ir"
      }
    },
    {
      "cell_type": "markdown",
      "source": [
        "### **Avaliação de Desempenho do modelo XGBoost**\n",
        "\n",
        "Utilizaremos os hiperparâmetros otimizados anteriormente para treinar o modelo XGBoost. Em seguida, avaliaremos seu desempenho preditivo nos dados de teste, empregando as métricas $R^2$ e RMSE."
      ],
      "metadata": {
        "id": "x6KQIHlpB_Kk"
      }
    },
    {
      "cell_type": "code",
      "source": [
        "xgb_params ={'learning_rate':0.010106631098766576,'n_estimators':437,\n",
        "             'max_depth':6, 'min_child_weight':10,'gamma':1.0, 'random_state':0}\n",
        "xgb_model = XGBRegressor(**xgb_params)\n",
        "xgb_model.fit(X_train_transform, y_train)\n",
        "y_pred_xgb = xgb_model.predict(X_test_transform)\n",
        "print(\"r2: \\t{:.4f}\".format(r2_score(y_test, y_pred_xgb)))\n",
        "print(\"RMSE: \\t{:.4f}\".format(np.sqrt(mean_squared_error(y_test, y_pred_xgb))))"
      ],
      "metadata": {
        "colab": {
          "base_uri": "https://localhost:8080/"
        },
        "id": "oUmTS2yf01Te",
        "outputId": "a6ebcc7e-d736-4c0c-b40f-0d8b050f4021"
      },
      "execution_count": null,
      "outputs": [
        {
          "output_type": "stream",
          "name": "stdout",
          "text": [
            "r2: \t0.5417\n",
            "RMSE: \t2.1625\n"
          ]
        }
      ]
    },
    {
      "cell_type": "markdown",
      "source": [
        "* O modelo XGBoost obteve uma boa perfomance muito próximo do `Voting`, ele foi capaz de explicar cerca de 54% da variabilidade da variável target, com um erro médio de aproximadamente 2.16 anéis."
      ],
      "metadata": {
        "id": "q-kxRv1s8Nu2"
      }
    },
    {
      "cell_type": "markdown",
      "source": [
        "### **Avaliação o Desempenho do Voting**\n",
        "\n",
        "O Voting é um método de ensemble que combina vários classificadores ou regressores individuais para fazer previsões. Neste caso, utilizarei o VotingRegressor para combinar as previsões dos modelos mencionados."
      ],
      "metadata": {
        "id": "VQqdQmu-KNcg"
      }
    },
    {
      "cell_type": "code",
      "source": [
        "voting_model = VotingRegressor(estimators=[('lgbm', lgbm_model), ('sgd', sgd_model),\n",
        "                                            ('knn', knn_model), ('xgb', xgb_model)])\n",
        "voting_model.fit(X_train_transform, y_train)\n",
        "y_pred_voting = voting_model.predict(X_test_transform)\n",
        "print(\"r2: \\t{:.4f}\".format(r2_score(y_test, y_pred_voting)))\n",
        "print(\"RMSE: \\t{:.4f}\".format(np.sqrt(mean_squared_error(y_test, y_pred_voting))))"
      ],
      "metadata": {
        "colab": {
          "base_uri": "https://localhost:8080/"
        },
        "id": "K_eCrS-iECBC",
        "outputId": "b9963195-b9c3-4e7d-f97b-9e70b2dbdfa0"
      },
      "execution_count": null,
      "outputs": [
        {
          "output_type": "stream",
          "name": "stdout",
          "text": [
            "r2: \t0.5486\n",
            "RMSE: \t2.1462\n"
          ]
        }
      ]
    },
    {
      "cell_type": "markdown",
      "source": [
        "O Voting Regressor, que integra os quatro modelos anteriores (`LGBM`, `SGD`, `KNN` e `XGBoost`), foi o modelo que mais se assemelha ao `Lightgbm` em termos de performance. Ele conseguiu explicar aproximadamente 54% da variabilidade da variável alvo, com um erro médio de cerca de 2.14 anéis."
      ],
      "metadata": {
        "id": "8rQMLLaPLFtY"
      }
    },
    {
      "cell_type": "markdown",
      "source": [
        "###**Salvando o modelo**\n",
        "\n",
        "O Nosso modelo já está treinado e pronto para fazer novas previsões. No entanto, ele ainda está \"preso\" ao kernel do Google Colab. Sempre que quisermos fazer uma previsão, imagine ter que executar todas as células novamente. Seria inviável! Para facilitar a exportação do modelo de machine learning utilizaremos a biblioteca `joblib`."
      ],
      "metadata": {
        "id": "VcWzQtChgIUk"
      }
    },
    {
      "cell_type": "code",
      "source": [
        "dump(encoder, 'encoder.joblib')\n",
        "dump(scaler, 'scaler.joblib')\n",
        "dump(lgbm_model, 'model.joblib')\n",
        "dump(df_abalones.drop(columns=['Volume', 'Rings']).columns.values, 'features.names')"
      ],
      "metadata": {
        "id": "xaxzSmdXj1Ia",
        "colab": {
          "base_uri": "https://localhost:8080/"
        },
        "outputId": "ac629944-2099-47d7-999a-ba4850cbf34a"
      },
      "execution_count": null,
      "outputs": [
        {
          "output_type": "execute_result",
          "data": {
            "text/plain": [
              "['features.names']"
            ]
          },
          "metadata": {},
          "execution_count": 54
        }
      ]
    }
  ]
}